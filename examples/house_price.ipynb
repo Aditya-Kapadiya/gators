{
 "cells": [
  {
   "cell_type": "markdown",
   "metadata": {},
   "source": [
    "# regression example - house price dataset"
   ]
  },
  {
   "cell_type": "code",
   "execution_count": 1,
   "metadata": {},
   "outputs": [],
   "source": [
    "import warnings\n",
    "warnings.filterwarnings('ignore')"
   ]
  },
  {
   "cell_type": "code",
   "execution_count": 2,
   "metadata": {},
   "outputs": [],
   "source": [
    "%load_ext autoreload\n",
    "%autoreload 2"
   ]
  },
  {
   "cell_type": "code",
   "execution_count": 3,
   "metadata": {},
   "outputs": [],
   "source": [
    "import copy\n",
    "import dill\n",
    "import numpy as np\n",
    "import pandas as pd\n",
    "from pandas.testing import assert_frame_equal\n",
    "from xgboost import XGBRegressor\n",
    "import treelite\n",
    "import treelite_runtime\n",
    "from sklearn.model_selection import KFold\n",
    "from sklearn.model_selection import RandomizedSearchCV\n",
    "from sklearn.metrics import make_scorer\n",
    "from sklearn.metrics import mean_absolute_error\n",
    "from sklearn.tree import DecisionTreeRegressor\n",
    "import seaborn as sns\n",
    "cmap = sns.color_palette(\"viridis\", as_cmap=True)\n",
    "cmap = sns.color_palette(\"vlag\", as_cmap=True)"
   ]
  },
  {
   "cell_type": "markdown",
   "metadata": {},
   "source": [
    "**Gators** imports"
   ]
  },
  {
   "cell_type": "code",
   "execution_count": 4,
   "metadata": {},
   "outputs": [],
   "source": [
    "from gators.util import util\n",
    "# sampling\n",
    "from gators.sampling import UnsupervisedSampling\n",
    "# data cleaninng\n",
    "from gators.data_cleaning import (\n",
    "    DropHighNaNRatio,\n",
    "    DropLowCardinality,\n",
    "    DropHighCardinality,\n",
    "    DropDatatypeColumns,\n",
    "    DropColumns,\n",
    "    KeepColumns,\n",
    ")\n",
    "# imputers\n",
    "from gators.imputers import (\n",
    "    NumericsImputer, \n",
    "    ObjectImputer,\n",
    ")\n",
    "# encoders\n",
    "from gators.encoders import (\n",
    "    WOEEncoder, \n",
    "    TargetEncoder,\n",
    "    OrdinalEncoder, \n",
    ")\n",
    "# binning\n",
    "from gators.binning import (\n",
    "    BinRareCategories,\n",
    "    TreeBinning,\n",
    ")\n",
    "# feature generation\n",
    "from gators.feature_generation import (\n",
    "    ClusterStatistics,\n",
    "    PolynomialFeatures,\n",
    "    PolynomialObjectFeatures,\n",
    ")\n",
    "# feature selection\n",
    "from gators.feature_selection import (\n",
    "    InformationValue,\n",
    "    SelectFromModel,\n",
    ")\n",
    "# model building\n",
    "from gators.model_building import (\n",
    "    TrainTestSplit,\n",
    "    XGBBoosterBuilder,\n",
    "    XGBTreeliteDumper,\n",
    "    LGBMTreeliteDumper,\n",
    ")\n",
    "# # pipeline\n",
    "from gators.pipeline import Pipeline"
   ]
  },
  {
   "cell_type": "markdown",
   "metadata": {},
   "source": [
    "## data analysis"
   ]
  },
  {
   "cell_type": "code",
   "execution_count": 5,
   "metadata": {},
   "outputs": [],
   "source": [
    "data = pd.read_parquet('data/house_prices.parquet').reset_index(drop=True)\n",
    "y = data['SalePrice']\n",
    "y = y.astype(float)\n",
    "X = data.drop('SalePrice', axis=1)\n",
    "\n",
    "train_test_split = TrainTestSplit(test_ratio=0.3, strategy='ordered')\n",
    "X_train, X_test, y_train, y_test = train_test_split.transform(X, y)"
   ]
  },
  {
   "cell_type": "code",
   "execution_count": 6,
   "metadata": {},
   "outputs": [
    {
     "data": {
      "text/html": [
       "<div>\n",
       "<style scoped>\n",
       "    .dataframe tbody tr th:only-of-type {\n",
       "        vertical-align: middle;\n",
       "    }\n",
       "\n",
       "    .dataframe tbody tr th {\n",
       "        vertical-align: top;\n",
       "    }\n",
       "\n",
       "    .dataframe thead th {\n",
       "        text-align: right;\n",
       "    }\n",
       "</style>\n",
       "<table border=\"1\" class=\"dataframe\">\n",
       "  <thead>\n",
       "    <tr style=\"text-align: right;\">\n",
       "      <th></th>\n",
       "      <th>MSSubClass</th>\n",
       "      <th>MSZoning</th>\n",
       "      <th>LotFrontage</th>\n",
       "      <th>LotArea</th>\n",
       "      <th>Street</th>\n",
       "      <th>Alley</th>\n",
       "      <th>LotShape</th>\n",
       "      <th>LandContour</th>\n",
       "      <th>Utilities</th>\n",
       "      <th>LotConfig</th>\n",
       "      <th>...</th>\n",
       "      <th>ScreenPorch</th>\n",
       "      <th>PoolArea</th>\n",
       "      <th>PoolQC</th>\n",
       "      <th>Fence</th>\n",
       "      <th>MiscFeature</th>\n",
       "      <th>MiscVal</th>\n",
       "      <th>MoSold</th>\n",
       "      <th>YrSold</th>\n",
       "      <th>SaleType</th>\n",
       "      <th>SaleCondition</th>\n",
       "    </tr>\n",
       "  </thead>\n",
       "  <tbody>\n",
       "    <tr>\n",
       "      <th>0</th>\n",
       "      <td>60</td>\n",
       "      <td>RL</td>\n",
       "      <td>65.0</td>\n",
       "      <td>8450</td>\n",
       "      <td>Pave</td>\n",
       "      <td>None</td>\n",
       "      <td>Reg</td>\n",
       "      <td>Lvl</td>\n",
       "      <td>AllPub</td>\n",
       "      <td>Inside</td>\n",
       "      <td>...</td>\n",
       "      <td>0</td>\n",
       "      <td>0</td>\n",
       "      <td>None</td>\n",
       "      <td>None</td>\n",
       "      <td>None</td>\n",
       "      <td>0</td>\n",
       "      <td>2</td>\n",
       "      <td>2008</td>\n",
       "      <td>WD</td>\n",
       "      <td>Normal</td>\n",
       "    </tr>\n",
       "    <tr>\n",
       "      <th>1</th>\n",
       "      <td>20</td>\n",
       "      <td>RL</td>\n",
       "      <td>80.0</td>\n",
       "      <td>9600</td>\n",
       "      <td>Pave</td>\n",
       "      <td>None</td>\n",
       "      <td>Reg</td>\n",
       "      <td>Lvl</td>\n",
       "      <td>AllPub</td>\n",
       "      <td>FR2</td>\n",
       "      <td>...</td>\n",
       "      <td>0</td>\n",
       "      <td>0</td>\n",
       "      <td>None</td>\n",
       "      <td>None</td>\n",
       "      <td>None</td>\n",
       "      <td>0</td>\n",
       "      <td>5</td>\n",
       "      <td>2007</td>\n",
       "      <td>WD</td>\n",
       "      <td>Normal</td>\n",
       "    </tr>\n",
       "  </tbody>\n",
       "</table>\n",
       "<p>2 rows × 79 columns</p>\n",
       "</div>"
      ],
      "text/plain": [
       "   MSSubClass MSZoning  LotFrontage  LotArea Street Alley LotShape  \\\n",
       "0          60       RL         65.0     8450   Pave  None      Reg   \n",
       "1          20       RL         80.0     9600   Pave  None      Reg   \n",
       "\n",
       "  LandContour Utilities LotConfig  ... ScreenPorch PoolArea PoolQC Fence  \\\n",
       "0         Lvl    AllPub    Inside  ...           0        0   None  None   \n",
       "1         Lvl    AllPub       FR2  ...           0        0   None  None   \n",
       "\n",
       "  MiscFeature MiscVal  MoSold  YrSold  SaleType  SaleCondition  \n",
       "0        None       0       2    2008        WD         Normal  \n",
       "1        None       0       5    2007        WD         Normal  \n",
       "\n",
       "[2 rows x 79 columns]"
      ]
     },
     "execution_count": 6,
     "metadata": {},
     "output_type": "execute_result"
    }
   ],
   "source": [
    "X_train.head(2)"
   ]
  },
  {
   "cell_type": "code",
   "execution_count": 7,
   "metadata": {},
   "outputs": [
    {
     "data": {
      "text/html": [
       "<div>\n",
       "<style scoped>\n",
       "    .dataframe tbody tr th:only-of-type {\n",
       "        vertical-align: middle;\n",
       "    }\n",
       "\n",
       "    .dataframe tbody tr th {\n",
       "        vertical-align: top;\n",
       "    }\n",
       "\n",
       "    .dataframe thead th {\n",
       "        text-align: right;\n",
       "    }\n",
       "</style>\n",
       "<table border=\"1\" class=\"dataframe\">\n",
       "  <thead>\n",
       "    <tr style=\"text-align: right;\">\n",
       "      <th></th>\n",
       "      <th>count</th>\n",
       "      <th>mean</th>\n",
       "      <th>std</th>\n",
       "      <th>min</th>\n",
       "      <th>25%</th>\n",
       "      <th>50%</th>\n",
       "      <th>75%</th>\n",
       "      <th>max</th>\n",
       "    </tr>\n",
       "  </thead>\n",
       "  <tbody>\n",
       "    <tr>\n",
       "      <th>SalePrice</th>\n",
       "      <td>1022.0</td>\n",
       "      <td>181713.254403</td>\n",
       "      <td>79854.663341</td>\n",
       "      <td>34900.0</td>\n",
       "      <td>130000.0</td>\n",
       "      <td>163745.0</td>\n",
       "      <td>214975.0</td>\n",
       "      <td>755000.0</td>\n",
       "    </tr>\n",
       "  </tbody>\n",
       "</table>\n",
       "</div>"
      ],
      "text/plain": [
       "            count           mean           std      min       25%       50%  \\\n",
       "SalePrice  1022.0  181713.254403  79854.663341  34900.0  130000.0  163745.0   \n",
       "\n",
       "                75%       max  \n",
       "SalePrice  214975.0  755000.0  "
      ]
     },
     "execution_count": 7,
     "metadata": {},
     "output_type": "execute_result"
    },
    {
     "data": {
      "image/png": "[encoded data removed]",
      "text/plain": [
       "<Figure size 460.8x288 with 1 Axes>"
      ]
     },
     "metadata": {
      "needs_background": "light"
     },
     "output_type": "display_data"
    }
   ],
   "source": [
    "y_train.plot(\n",
    "    kind='hist', \n",
    "    figsize=(4*1.6, 4),\n",
    "    title='house price ($)',\n",
    "    bins=50) ;\n",
    "pd.DataFrame(y_train.describe()).T"
   ]
  },
  {
   "cell_type": "code",
   "execution_count": 8,
   "metadata": {},
   "outputs": [
    {
     "data": {
      "image/png": "[encoded data removed]",
      "text/plain": [
       "<Figure size 345.6x216 with 1 Axes>"
      ]
     },
     "metadata": {
      "needs_background": "light"
     },
     "output_type": "display_data"
    }
   ],
   "source": [
    "X_train.dtypes.value_counts(ascending=True).plot(\n",
    "    figsize=(3*1.6, 3), \n",
    "    title='column datatype',\n",
    "    kind='barh');"
   ]
  },
  {
   "cell_type": "code",
   "execution_count": 9,
   "metadata": {},
   "outputs": [
    {
     "data": {
      "text/html": [
       "<style type=\"text/css\">\n",
       "#T_d1caa_row0_col0 {\n",
       "  background-color: #5983bd;\n",
       "  color: #f1f1f1;\n",
       "}\n",
       "#T_d1caa_row1_col0 {\n",
       "  background-color: #7594c0;\n",
       "  color: #f1f1f1;\n",
       "}\n",
       "#T_d1caa_row2_col0 {\n",
       "  background-color: #aab8d0;\n",
       "  color: #000000;\n",
       "}\n",
       "#T_d1caa_row3_col0 {\n",
       "  background-color: #a9373b;\n",
       "  color: #f1f1f1;\n",
       "}\n",
       "</style>\n",
       "<table id=\"T_d1caa_\">\n",
       "  <thead>\n",
       "    <tr>\n",
       "      <th class=\"blank level0\" >&nbsp;</th>\n",
       "      <th class=\"col_heading level0 col0\" >MEAN TARGET values</th>\n",
       "    </tr>\n",
       "    <tr>\n",
       "      <th class=\"index_name level0\" >2ndFlrSF</th>\n",
       "      <th class=\"blank col0\" >&nbsp;</th>\n",
       "    </tr>\n",
       "  </thead>\n",
       "  <tbody>\n",
       "    <tr>\n",
       "      <th id=\"T_d1caa_level0_row0\" class=\"row_heading level0 row0\" >(-inf, 758.5]</th>\n",
       "      <td id=\"T_d1caa_row0_col0\" class=\"data row0 col0\" >165864</td>\n",
       "    </tr>\n",
       "    <tr>\n",
       "      <th id=\"T_d1caa_level0_row1\" class=\"row_heading level0 row1\" >(758.5, 1064.5]</th>\n",
       "      <td id=\"T_d1caa_row1_col0\" class=\"data row1 col0\" >206727</td>\n",
       "    </tr>\n",
       "    <tr>\n",
       "      <th id=\"T_d1caa_level0_row2\" class=\"row_heading level0 row2\" >(1064.5, 1845.0]</th>\n",
       "      <td id=\"T_d1caa_row2_col0\" class=\"data row2 col0\" >291122</td>\n",
       "    </tr>\n",
       "    <tr>\n",
       "      <th id=\"T_d1caa_level0_row3\" class=\"row_heading level0 row3\" >(1845.0, inf)</th>\n",
       "      <td id=\"T_d1caa_row3_col0\" class=\"data row3 col0\" >755000</td>\n",
       "    </tr>\n",
       "  </tbody>\n",
       "</table>\n"
      ],
      "text/plain": [
       "<pandas.io.formats.style.Styler at 0x7fc100575e20>"
      ]
     },
     "metadata": {},
     "output_type": "display_data"
    },
    {
     "data": {
      "text/html": [
       "<style type=\"text/css\">\n",
       "#T_9ae82_row0_col0 {\n",
       "  background-color: #658abe;\n",
       "  color: #f1f1f1;\n",
       "}\n",
       "#T_9ae82_row1_col0 {\n",
       "  background-color: #3d74bc;\n",
       "  color: #f1f1f1;\n",
       "}\n",
       "#T_9ae82_row2_col0 {\n",
       "  background-color: #f2dfdd;\n",
       "  color: #000000;\n",
       "}\n",
       "</style>\n",
       "<table id=\"T_9ae82_\">\n",
       "  <thead>\n",
       "    <tr>\n",
       "      <th class=\"blank level0\" >&nbsp;</th>\n",
       "      <th class=\"col_heading level0 col0\" >MEAN TARGET values</th>\n",
       "    </tr>\n",
       "    <tr>\n",
       "      <th class=\"index_name level0\" >LowQualFinSF</th>\n",
       "      <th class=\"blank col0\" >&nbsp;</th>\n",
       "    </tr>\n",
       "  </thead>\n",
       "  <tbody>\n",
       "    <tr>\n",
       "      <th id=\"T_9ae82_level0_row0\" class=\"row_heading level0 row0\" >(-inf, 66.5]</th>\n",
       "      <td id=\"T_9ae82_row0_col0\" class=\"data row0 col0\" >182400</td>\n",
       "    </tr>\n",
       "    <tr>\n",
       "      <th id=\"T_9ae82_level0_row1\" class=\"row_heading level0 row1\" >(66.5, 550.0]</th>\n",
       "      <td id=\"T_9ae82_row1_col0\" class=\"data row1 col0\" >130015</td>\n",
       "    </tr>\n",
       "    <tr>\n",
       "      <th id=\"T_9ae82_level0_row2\" class=\"row_heading level0 row2\" >(550.0, inf)</th>\n",
       "      <td id=\"T_9ae82_row2_col0\" class=\"data row2 col0\" >475000</td>\n",
       "    </tr>\n",
       "  </tbody>\n",
       "</table>\n"
      ],
      "text/plain": [
       "<pandas.io.formats.style.Styler at 0x7fc100575e20>"
      ]
     },
     "metadata": {},
     "output_type": "display_data"
    },
    {
     "data": {
      "text/html": [
       "<style type=\"text/css\">\n",
       "#T_4642a_row0_col0 {\n",
       "  background-color: #6288bd;\n",
       "  color: #f1f1f1;\n",
       "}\n",
       "#T_4642a_row1_col0 {\n",
       "  background-color: #4e7dbc;\n",
       "  color: #f1f1f1;\n",
       "}\n",
       "#T_4642a_row2_col0 {\n",
       "  background-color: #829cc3;\n",
       "  color: #f1f1f1;\n",
       "}\n",
       "#T_4642a_row3_col0 {\n",
       "  background-color: #f2dfdd;\n",
       "  color: #000000;\n",
       "}\n",
       "</style>\n",
       "<table id=\"T_4642a_\">\n",
       "  <thead>\n",
       "    <tr>\n",
       "      <th class=\"blank level0\" >&nbsp;</th>\n",
       "      <th class=\"col_heading level0 col0\" >MEAN TARGET values</th>\n",
       "    </tr>\n",
       "    <tr>\n",
       "      <th class=\"index_name level0\" >ScreenPorch</th>\n",
       "      <th class=\"blank col0\" >&nbsp;</th>\n",
       "    </tr>\n",
       "  </thead>\n",
       "  <tbody>\n",
       "    <tr>\n",
       "      <th id=\"T_4642a_level0_row0\" class=\"row_heading level0 row0\" >(-inf, 56.5]</th>\n",
       "      <td id=\"T_4642a_row0_col0\" class=\"data row0 col0\" >178884</td>\n",
       "    </tr>\n",
       "    <tr>\n",
       "      <th id=\"T_4642a_level0_row1\" class=\"row_heading level0 row1\" >(56.5, 135.0]</th>\n",
       "      <td id=\"T_4642a_row1_col0\" class=\"data row1 col0\" >150071</td>\n",
       "    </tr>\n",
       "    <tr>\n",
       "      <th id=\"T_4642a_level0_row2\" class=\"row_heading level0 row2\" >(135.0, 403.0]</th>\n",
       "      <td id=\"T_4642a_row2_col0\" class=\"data row2 col0\" >225015</td>\n",
       "    </tr>\n",
       "    <tr>\n",
       "      <th id=\"T_4642a_level0_row3\" class=\"row_heading level0 row3\" >(403.0, inf)</th>\n",
       "      <td id=\"T_4642a_row3_col0\" class=\"data row3 col0\" >475000</td>\n",
       "    </tr>\n",
       "  </tbody>\n",
       "</table>\n"
      ],
      "text/plain": [
       "<pandas.io.formats.style.Styler at 0x7fc100575e20>"
      ]
     },
     "metadata": {},
     "output_type": "display_data"
    },
    {
     "data": {
      "text/html": [
       "<style type=\"text/css\">\n",
       "#T_42874_row0_col0 {\n",
       "  background-color: #4678bc;\n",
       "  color: #f1f1f1;\n",
       "}\n",
       "#T_42874_row1_col0 {\n",
       "  background-color: #6288bd;\n",
       "  color: #f1f1f1;\n",
       "}\n",
       "#T_42874_row2_col0 {\n",
       "  background-color: #7e9ac2;\n",
       "  color: #f1f1f1;\n",
       "}\n",
       "#T_42874_row3_col0 {\n",
       "  background-color: #e9e9ed;\n",
       "  color: #000000;\n",
       "}\n",
       "</style>\n",
       "<table id=\"T_42874_\">\n",
       "  <thead>\n",
       "    <tr>\n",
       "      <th class=\"blank level0\" >&nbsp;</th>\n",
       "      <th class=\"col_heading level0 col0\" >MEAN TARGET values</th>\n",
       "    </tr>\n",
       "    <tr>\n",
       "      <th class=\"index_name level0\" >BsmtUnfSF</th>\n",
       "      <th class=\"blank col0\" >&nbsp;</th>\n",
       "    </tr>\n",
       "  </thead>\n",
       "  <tbody>\n",
       "    <tr>\n",
       "      <th id=\"T_42874_level0_row0\" class=\"row_heading level0 row0\" >(-inf, 31.0]</th>\n",
       "      <td id=\"T_42874_row0_col0\" class=\"data row0 col0\" >139478</td>\n",
       "    </tr>\n",
       "    <tr>\n",
       "      <th id=\"T_42874_level0_row1\" class=\"row_heading level0 row1\" >(31.0, 1103.0]</th>\n",
       "      <td id=\"T_42874_row1_col0\" class=\"data row1 col0\" >178016</td>\n",
       "    </tr>\n",
       "    <tr>\n",
       "      <th id=\"T_42874_level0_row2\" class=\"row_heading level0 row2\" >(1103.0, 1916.5]</th>\n",
       "      <td id=\"T_42874_row2_col0\" class=\"data row2 col0\" >221476</td>\n",
       "    </tr>\n",
       "    <tr>\n",
       "      <th id=\"T_42874_level0_row3\" class=\"row_heading level0 row3\" >(1916.5, inf)</th>\n",
       "      <td id=\"T_42874_row3_col0\" class=\"data row3 col0\" >389667</td>\n",
       "    </tr>\n",
       "  </tbody>\n",
       "</table>\n"
      ],
      "text/plain": [
       "<pandas.io.formats.style.Styler at 0x7fc100575e20>"
      ]
     },
     "metadata": {},
     "output_type": "display_data"
    },
    {
     "data": {
      "text/html": [
       "<style type=\"text/css\">\n",
       "#T_82c13_row0_col0 {\n",
       "  background-color: #4678bc;\n",
       "  color: #f1f1f1;\n",
       "}\n",
       "#T_82c13_row1_col0 {\n",
       "  background-color: #7695c1;\n",
       "  color: #f1f1f1;\n",
       "}\n",
       "#T_82c13_row2_col0 {\n",
       "  background-color: #a2b2cd;\n",
       "  color: #000000;\n",
       "}\n",
       "#T_82c13_row3_col0 {\n",
       "  background-color: #e6e6ec;\n",
       "  color: #000000;\n",
       "}\n",
       "</style>\n",
       "<table id=\"T_82c13_\">\n",
       "  <thead>\n",
       "    <tr>\n",
       "      <th class=\"blank level0\" >&nbsp;</th>\n",
       "      <th class=\"col_heading level0 col0\" >MEAN TARGET values</th>\n",
       "    </tr>\n",
       "    <tr>\n",
       "      <th class=\"index_name level0\" >OverallQual</th>\n",
       "      <th class=\"blank col0\" >&nbsp;</th>\n",
       "    </tr>\n",
       "  </thead>\n",
       "  <tbody>\n",
       "    <tr>\n",
       "      <th id=\"T_82c13_level0_row0\" class=\"row_heading level0 row0\" >(-inf, 6.5]</th>\n",
       "      <td id=\"T_82c13_row0_col0\" class=\"data row0 col0\" >139881</td>\n",
       "    </tr>\n",
       "    <tr>\n",
       "      <th id=\"T_82c13_level0_row1\" class=\"row_heading level0 row1\" >(6.5, 7.5]</th>\n",
       "      <td id=\"T_82c13_row1_col0\" class=\"data row1 col0\" >208345</td>\n",
       "    </tr>\n",
       "    <tr>\n",
       "      <th id=\"T_82c13_level0_row2\" class=\"row_heading level0 row2\" >(7.5, 8.5]</th>\n",
       "      <td id=\"T_82c13_row2_col0\" class=\"data row2 col0\" >277417</td>\n",
       "    </tr>\n",
       "    <tr>\n",
       "      <th id=\"T_82c13_level0_row3\" class=\"row_heading level0 row3\" >(8.5, inf)</th>\n",
       "      <td id=\"T_82c13_row3_col0\" class=\"data row3 col0\" >383100</td>\n",
       "    </tr>\n",
       "  </tbody>\n",
       "</table>\n"
      ],
      "text/plain": [
       "<pandas.io.formats.style.Styler at 0x7fc100575e20>"
      ]
     },
     "metadata": {},
     "output_type": "display_data"
    }
   ],
   "source": [
    "steps = [\n",
    "    ('BinRareCategories', BinRareCategories(min_ratio=0.05)),\n",
    "    ('DropLowCardinality', DropLowCardinality(min_categories=2)),\n",
    "    ('ObjectImputer', ObjectImputer(strategy='constant', value='MISSING')),\n",
    "    ('NumericsImputer', NumericsImputer(strategy='constant', value=0)),\n",
    "    ('TreeBinning', TreeBinning(\n",
    "        tree=DecisionTreeRegressor(max_depth=2, min_samples_split=50), inplace=True)),\n",
    "    ('CleanCategories', BinRareCategories(min_ratio=0.0)),\n",
    "    ('TargetEncoder', TargetEncoder(add_missing_categories=False)),\n",
    "]\n",
    "pipe = Pipeline(steps=steps)\n",
    "_ = pipe.fit(X_train.copy(), y_train)\n",
    "pipe.display_encoder_mapping_nb(cmap=cmap, decimals=0)"
   ]
  },
  {
   "cell_type": "markdown",
   "metadata": {},
   "source": [
    "## offline pipeline - feature selection"
   ]
  },
  {
   "cell_type": "code",
   "execution_count": 32,
   "metadata": {},
   "outputs": [],
   "source": [
    "k = 30\n",
    "model = XGBRegressor(random_state=0, objective='reg:squarederror')\n",
    "steps = [\n",
    "    ('BinRareCategories', BinRareCategories(min_ratio=0.1)),\n",
    "    ('ObjectImputer', ObjectImputer(strategy='constant', value='MISSING')),\n",
    "    ('OrdinalEncoder', OrdinalEncoder()),\n",
    "    ('NumericsImputer', NumericsImputer(strategy='constant', value=0)),\n",
    "    ('CleanCategories', BinRareCategories(min_ratio=0.0)),\n",
    "    ('SelectFromModel', SelectFromModel(model=model, k=k)),\n",
    "]"
   ]
  },
  {
   "cell_type": "code",
   "execution_count": 33,
   "metadata": {},
   "outputs": [],
   "source": [
    "pipe = Pipeline(steps=steps)\n",
    "_ = pipe.fit(X_train.copy(), y_train)"
   ]
  },
  {
   "cell_type": "code",
   "execution_count": 34,
   "metadata": {},
   "outputs": [
    {
     "data": {
      "image/png": "[encoded data removed]",
      "text/plain": [
       "<Figure size 288x460.8 with 1 Axes>"
      ]
     },
     "metadata": {
      "needs_background": "light"
     },
     "output_type": "display_data"
    }
   ],
   "source": [
    "pipe.steps[-1][1].feature_importances_.iloc[k::-1].plot(\n",
    "    kind='barh', \n",
    "    figsize=(4, 4*1.6), \n",
    "    title='feature importance',\n",
    ");"
   ]
  },
  {
   "cell_type": "code",
   "execution_count": 37,
   "metadata": {},
   "outputs": [],
   "source": [
    "polynomial_columns = pipe.steps[-1][1].feature_importances_.index[:5]"
   ]
  },
  {
   "cell_type": "markdown",
   "metadata": {},
   "source": [
    "## pipeline optimization"
   ]
  },
  {
   "cell_type": "code",
   "execution_count": 38,
   "metadata": {},
   "outputs": [
    {
     "name": "stdout",
     "output_type": "stream",
     "text": [
      "Fitting 10 folds for each of 30 candidates, totalling 300 fits\n"
     ]
    }
   ],
   "source": [
    "model = XGBRegressor(random_state=0, objective='reg:squarederror', max_depth=2)\n",
    "\n",
    "steps = [\n",
    "    ('BinRareCategories', BinRareCategories(min_ratio=0.1)),\n",
    "    ('ObjectImputer', ObjectImputer(strategy='constant', value='MISSING')),\n",
    "    ('NumericsImputer', NumericsImputer(strategy='constant', value=-1)),\n",
    "    ('CleanCategories', BinRareCategories(min_ratio=0.0)),\n",
    "    ('TargetEncoder', TargetEncoder(add_missing_categories=True)),\n",
    "    ('ESTIMATOR', model),\n",
    "]\n",
    "\n",
    "param_distributions = {\n",
    "    \"BinRareCategories__min_ratio\": [0.05, 0.1, 0.2],\n",
    "    \"NumericsImputer__strategy\": [\"mean\", \"constant\"],\n",
    "    \"ObjectImputer__strategy\": [\"constant\", \"most_frequent\"],\n",
    "    'ESTIMATOR__subsample': [0.5, 0.6, 0.7],\n",
    "    'ESTIMATOR__colsample_bytree': [0.4, 0.5, 0.6],\n",
    "    'ESTIMATOR__min_child_weight': [10, 20, 30],\n",
    "}\n",
    "scoring = make_scorer(mean_absolute_error)\n",
    "\n",
    "cv = KFold(n_splits=10, random_state=0, shuffle=True)\n",
    "pipe = Pipeline(steps=steps, verbose=False)\n",
    "search = RandomizedSearchCV(\n",
    "    pipe,\n",
    "    param_distributions=param_distributions, \n",
    "    n_iter=30,\n",
    "    cv=cv,\n",
    "    n_jobs=-1,\n",
    "    verbose=True,\n",
    "    pre_dispatch=5)\n",
    "_ = search.fit(X_train[selected_columns].copy(), y_train)"
   ]
  },
  {
   "cell_type": "code",
   "execution_count": 58,
   "metadata": {},
   "outputs": [
    {
     "name": "stdout",
     "output_type": "stream",
     "text": [
      "Fitting 10 folds for each of 30 candidates, totalling 300 fits\n"
     ]
    }
   ],
   "source": [
    "from lightgbm import LGBMRegressor\n",
    "model = LGBMRegressor(random_state=0, max_depth=2)\n",
    "\n",
    "steps = [\n",
    "    ('BinRareCategories', BinRareCategories(min_ratio=0.1)),\n",
    "    ('ObjectImputer', ObjectImputer(strategy='constant', value='MISSING')),\n",
    "    ('NumericsImputer', NumericsImputer(strategy='constant', value=-1)),\n",
    "    ('CleanCategories', BinRareCategories(min_ratio=0.0)),\n",
    "    ('TargetEncoder', TargetEncoder(add_missing_categories=True)),\n",
    "    ('ESTIMATOR', model),\n",
    "]\n",
    "\n",
    "param_distributions = {\n",
    "    \"BinRareCategories__min_ratio\": [0.05, 0.1, 0.2],\n",
    "    \"NumericsImputer__strategy\": [\"mean\", \"constant\"],\n",
    "    \"ObjectImputer__strategy\": [\"constant\", \"most_frequent\"],\n",
    "    'ESTIMATOR__subsample': [0.5, 0.6, 0.7],\n",
    "    'ESTIMATOR__colsample_bytree': [0.4, 0.5, 0.6],\n",
    "    'ESTIMATOR__min_child_weight': [10, 20, 30],\n",
    "}\n",
    "scoring = make_scorer(mean_absolute_error)\n",
    "\n",
    "cv = KFold(n_splits=10, random_state=0, shuffle=True)\n",
    "pipe = Pipeline(steps=steps, verbose=False)\n",
    "# pipe.fit(X_train[selected_columns].copy(), y_train)\n",
    "search = RandomizedSearchCV(\n",
    "    pipe,\n",
    "    param_distributions=param_distributions, \n",
    "    n_iter=30,\n",
    "    cv=cv,\n",
    "    n_jobs=-1,\n",
    "    verbose=True,\n",
    "    pre_dispatch=5)\n",
    "_ = search.fit(X_train[selected_columns].copy(), y_train)"
   ]
  },
  {
   "cell_type": "code",
   "execution_count": 59,
   "metadata": {},
   "outputs": [
    {
     "data": {
      "text/html": [
       "<div>\n",
       "<style scoped>\n",
       "    .dataframe tbody tr th:only-of-type {\n",
       "        vertical-align: middle;\n",
       "    }\n",
       "\n",
       "    .dataframe tbody tr th {\n",
       "        vertical-align: top;\n",
       "    }\n",
       "\n",
       "    .dataframe thead th {\n",
       "        text-align: right;\n",
       "    }\n",
       "</style>\n",
       "<table border=\"1\" class=\"dataframe\">\n",
       "  <thead>\n",
       "    <tr style=\"text-align: right;\">\n",
       "      <th></th>\n",
       "      <th>mean_fit_time</th>\n",
       "      <th>std_fit_time</th>\n",
       "      <th>mean_score_time</th>\n",
       "      <th>std_score_time</th>\n",
       "      <th>mean_test_score</th>\n",
       "      <th>std_test_score</th>\n",
       "      <th>rank_test_score</th>\n",
       "    </tr>\n",
       "  </thead>\n",
       "  <tbody>\n",
       "    <tr>\n",
       "      <th>21</th>\n",
       "      <td>0.074179</td>\n",
       "      <td>0.002448</td>\n",
       "      <td>0.026196</td>\n",
       "      <td>0.000835</td>\n",
       "      <td>0.884753</td>\n",
       "      <td>0.045445</td>\n",
       "      <td>1</td>\n",
       "    </tr>\n",
       "    <tr>\n",
       "      <th>27</th>\n",
       "      <td>0.082334</td>\n",
       "      <td>0.003214</td>\n",
       "      <td>0.029597</td>\n",
       "      <td>0.001688</td>\n",
       "      <td>0.884753</td>\n",
       "      <td>0.045445</td>\n",
       "      <td>1</td>\n",
       "    </tr>\n",
       "    <tr>\n",
       "      <th>15</th>\n",
       "      <td>0.085031</td>\n",
       "      <td>0.002578</td>\n",
       "      <td>0.029135</td>\n",
       "      <td>0.001732</td>\n",
       "      <td>0.884753</td>\n",
       "      <td>0.045445</td>\n",
       "      <td>1</td>\n",
       "    </tr>\n",
       "    <tr>\n",
       "      <th>28</th>\n",
       "      <td>0.077608</td>\n",
       "      <td>0.001648</td>\n",
       "      <td>0.027242</td>\n",
       "      <td>0.001036</td>\n",
       "      <td>0.884753</td>\n",
       "      <td>0.045445</td>\n",
       "      <td>1</td>\n",
       "    </tr>\n",
       "    <tr>\n",
       "      <th>20</th>\n",
       "      <td>0.077107</td>\n",
       "      <td>0.001675</td>\n",
       "      <td>0.026022</td>\n",
       "      <td>0.000718</td>\n",
       "      <td>0.884021</td>\n",
       "      <td>0.046108</td>\n",
       "      <td>5</td>\n",
       "    </tr>\n",
       "  </tbody>\n",
       "</table>\n",
       "</div>"
      ],
      "text/plain": [
       "    mean_fit_time  std_fit_time  mean_score_time  std_score_time  \\\n",
       "21       0.074179      0.002448         0.026196        0.000835   \n",
       "27       0.082334      0.003214         0.029597        0.001688   \n",
       "15       0.085031      0.002578         0.029135        0.001732   \n",
       "28       0.077608      0.001648         0.027242        0.001036   \n",
       "20       0.077107      0.001675         0.026022        0.000718   \n",
       "\n",
       "    mean_test_score  std_test_score  rank_test_score  \n",
       "21         0.884753        0.045445                1  \n",
       "27         0.884753        0.045445                1  \n",
       "15         0.884753        0.045445                1  \n",
       "28         0.884753        0.045445                1  \n",
       "20         0.884021        0.046108                5  "
      ]
     },
     "execution_count": 59,
     "metadata": {},
     "output_type": "execute_result"
    }
   ],
   "source": [
    "columns = ['mean_fit_time', 'std_fit_time', 'mean_score_time', 'std_score_time', 'mean_test_score', 'std_test_score', 'rank_test_score']\n",
    "pd.DataFrame(search.cv_results_)[columns].sort_values('rank_test_score').iloc[:5]"
   ]
  },
  {
   "cell_type": "code",
   "execution_count": 60,
   "metadata": {},
   "outputs": [
    {
     "data": {
      "text/plain": [
       "Pipeline(steps=[('BinRareCategories', BinRareCategories(min_ratio=0.05)),\n",
       "                ('ObjectImputer',\n",
       "                 ObjectImputer(columns=['CentralAir', 'ExterQual', 'LandSlope',\n",
       "                                        'KitchenQual', 'FireplaceQu',\n",
       "                                        'PavedDrive', 'Neighborhood',\n",
       "                                        'BsmtExposure', 'Functional',\n",
       "                                        'MSZoning', 'SaleType',\n",
       "                                        'SaleCondition'],\n",
       "                               strategy='most_frequent', value='MISSING')),\n",
       "                ('NumericsImputer',\n",
       "                 NumericsImputer(columns=[], strategy='constant', value=-1.0)),\n",
       "                ('CleanCategories', BinRareCategories(min_ratio=0.0)),\n",
       "                ('TargetEncoder', TargetEncoder()),\n",
       "                ('ESTIMATOR',\n",
       "                 LGBMRegressor(colsample_bytree=0.5, max_depth=2,\n",
       "                               min_child_weight=10, random_state=0,\n",
       "                               subsample=0.6))])"
      ]
     },
     "execution_count": 60,
     "metadata": {},
     "output_type": "execute_result"
    }
   ],
   "source": [
    "search.best_estimator_"
   ]
  },
  {
   "cell_type": "markdown",
   "metadata": {},
   "source": [
    "## model evaluation"
   ]
  },
  {
   "cell_type": "code",
   "execution_count": 61,
   "metadata": {
    "scrolled": true
   },
   "outputs": [
    {
     "name": "stdout",
     "output_type": "stream",
     "text": [
      "mean absolute error - train set: 14740\n",
      "mean absolute error - test set: 18647\n"
     ]
    }
   ],
   "source": [
    "train_error = mean_absolute_error(\n",
    "    y_train, search.best_estimator_.predict(X_train[selected_columns]))\n",
    "print(f'mean absolute error - train set: {round(train_error)}')\n",
    "test_error = mean_absolute_error(\n",
    "    y_test, search.best_estimator_.predict(X_test[selected_columns]))\n",
    "print(f'mean absolute error - test set: {round(test_error)}')"
   ]
  },
  {
   "cell_type": "code",
   "execution_count": 79,
   "metadata": {},
   "outputs": [
    {
     "data": {
      "image/png": "[encoded data removed]",
      "text/plain": [
       "<Figure size 806.4x288 with 2 Axes>"
      ]
     },
     "metadata": {
      "needs_background": "light"
     },
     "output_type": "display_data"
    }
   ],
   "source": [
    "train_errors = 100 * (y_train - search.best_estimator_.predict(X_train[selected_columns])) / y_train\n",
    "test_errors = 100 * (y_test - search.best_estimator_.predict(X_test[selected_columns])) / y_test\n",
    "import matplotlib.pyplot as plt \n",
    "fig, ax = plt.subplots(1, 2, figsize=[7 *1.6, 4]);\n",
    "ax[0].hist(train_errors, bins=50, label='train set');\n",
    "ax[0].set_title('error terms');\n",
    "ax[0].set_xlabel('errors (%)');\n",
    "ax[0].set_ylabel('count');\n",
    "ax[1].hist(test_errors, bins=50, label='test set', color='orange');\n",
    "ax[1].set_title('error terms');\n",
    "ax[1].set_xlabel('errors (%)');\n",
    "ax[1].set_ylabel('count');\n",
    "plt.legend();"
   ]
  },
  {
   "cell_type": "markdown",
   "metadata": {},
   "source": [
    "## production pipeline & model"
   ]
  },
  {
   "cell_type": "code",
   "execution_count": 63,
   "metadata": {},
   "outputs": [],
   "source": [
    "prod_pipe = copy.deepcopy(search.best_estimator_)\n",
    "_ = prod_pipe.steps.pop(-1)\n",
    "model_pd = copy.deepcopy(search.best_estimator_.steps[-1][1])"
   ]
  },
  {
   "cell_type": "code",
   "execution_count": 64,
   "metadata": {},
   "outputs": [],
   "source": [
    "X_train_prepro_np = prod_pipe.transform_numpy(X_train[selected_columns].to_numpy())\n",
    "y_train_np = y_train.to_numpy()"
   ]
  },
  {
   "cell_type": "code",
   "execution_count": 67,
   "metadata": {},
   "outputs": [
    {
     "name": "stdout",
     "output_type": "stream",
     "text": [
      "[15:22:30] /Users/travis/build/dmlc/treelite/src/compiler/ast/split.cc:29: Parallel compilation enabled; member trees will be divided into 4 translation units.\n",
      "[15:22:30] /Users/travis/build/dmlc/treelite/src/compiler/ast/split.cc:29: Parallel compilation enabled; member trees will be divided into 4 translation units.\n"
     ]
    }
   ],
   "source": [
    "LGBMTreeliteDumper().dump(\n",
    "    model=model_pd, \n",
    "    toolchain='gcc',\n",
    "    parallel_comp=4,\n",
    "    model_path='./models/', \n",
    "    model_name='treelite_lgbm_house')\n",
    "\n",
    "model_prod = treelite_runtime.Predictor(\n",
    "    './models/treelite_lgbm_house.so', verbose=False)"
   ]
  },
  {
   "cell_type": "code",
   "execution_count": 68,
   "metadata": {},
   "outputs": [],
   "source": [
    "X_test_np = X_test[selected_columns].to_numpy()\n",
    "y_pred_pd = model_pd.predict(\n",
    "    prod_pipe.transform(X_test[selected_columns].copy()))\n",
    "y_pred_tl = model_prod.predict(\n",
    "    treelite_runtime.DMatrix(\n",
    "        prod_pipe.transform_numpy(\n",
    "            X_test_np.copy()\n",
    "        )\n",
    "    )\n",
    ")"
   ]
  },
  {
   "cell_type": "markdown",
   "metadata": {},
   "source": [
    "### check if Pandas & Treelite predictions match"
   ]
  },
  {
   "cell_type": "code",
   "execution_count": 73,
   "metadata": {},
   "outputs": [],
   "source": [
    "assert np.allclose(y_pred_pd, y_pred_tl)"
   ]
  },
  {
   "cell_type": "markdown",
   "metadata": {},
   "source": [
    "## per-sample bechmarking"
   ]
  },
  {
   "cell_type": "markdown",
   "metadata": {},
   "source": [
    "### pipeline only"
   ]
  },
  {
   "cell_type": "code",
   "execution_count": 74,
   "metadata": {},
   "outputs": [
    {
     "name": "stdout",
     "output_type": "stream",
     "text": [
      "19.2 ms ± 648 µs per loop (mean ± std. dev. of 7 runs, 100 loops each)\n",
      "8.59 µs ± 121 ns per loop (mean ± std. dev. of 7 runs, 100000 loops each)\n"
     ]
    }
   ],
   "source": [
    "x = X_test[selected_columns].iloc[[1]]\n",
    "xnp = x.to_numpy()\n",
    "stats_pd = %timeit -o prod_pipe.transform(x)\n",
    "stats_np = %timeit -o prod_pipe.transform_numpy(xnp.copy())"
   ]
  },
  {
   "cell_type": "code",
   "execution_count": 75,
   "metadata": {},
   "outputs": [
    {
     "data": {
      "text/plain": [
       "'Speed-up Pandas VS Numpy x2235'"
      ]
     },
     "execution_count": 75,
     "metadata": {},
     "output_type": "execute_result"
    }
   ],
   "source": [
    "speedup = 1e3 * float(str(stats_pd).split(' ')[0]) / float(str(stats_np).split(' ')[0])\n",
    "f'Speed-up Pandas VS Numpy x{round(speedup)}'"
   ]
  },
  {
   "cell_type": "markdown",
   "metadata": {},
   "source": [
    "### pipeline & model"
   ]
  },
  {
   "cell_type": "code",
   "execution_count": 76,
   "metadata": {},
   "outputs": [
    {
     "name": "stdout",
     "output_type": "stream",
     "text": [
      "27.3 ms ± 1.03 ms per loop (mean ± std. dev. of 7 runs, 10 loops each)\n",
      "43.9 µs ± 599 ns per loop (mean ± std. dev. of 7 runs, 10000 loops each)\n"
     ]
    }
   ],
   "source": [
    "stats_pd = %timeit -o model_pd.predict(prod_pipe.transform(x).copy())[0]\n",
    "stats_tl = %timeit -o  model_prod.predict(treelite_runtime.DMatrix(prod_pipe.transform_numpy(xnp.copy())))"
   ]
  },
  {
   "cell_type": "code",
   "execution_count": 78,
   "metadata": {
    "scrolled": false
   },
   "outputs": [
    {
     "data": {
      "text/plain": [
       "'Speed-up Pandas VS Numpy&Treelite x622'"
      ]
     },
     "execution_count": 78,
     "metadata": {},
     "output_type": "execute_result"
    }
   ],
   "source": [
    "speedup = 1e3 * float(str(stats_pd).split(' ')[0]) / float(str(stats_tl).split(' ')[0])\n",
    "f'Speed-up Pandas VS Numpy&Treelite x{round(speedup)}'"
   ]
  },
  {
   "cell_type": "code",
   "execution_count": null,
   "metadata": {},
   "outputs": [],
   "source": []
  }
 ],
 "metadata": {
  "kernelspec": {
   "display_name": "gators38",
   "language": "python",
   "name": "gators38"
  },
  "language_info": {
   "codemirror_mode": {
    "name": "ipython",
    "version": 3
   },
   "file_extension": ".py",
   "mimetype": "text/x-python",
   "name": "python",
   "nbconvert_exporter": "python",
   "pygments_lexer": "ipython3",
   "version": "3.8.10"
  }
 },
 "nbformat": 4,
 "nbformat_minor": 2
}

{
 "cells": [
  {
   "cell_type": "markdown",
   "metadata": {},
   "source": [
    "# binary classification example - titanic dataset"
   ]
  },
  {
   "cell_type": "code",
   "execution_count": 1,
   "metadata": {},
   "outputs": [],
   "source": [
    "import warnings\n",
    "warnings.filterwarnings('ignore')"
   ]
  },
  {
   "cell_type": "code",
   "execution_count": 2,
   "metadata": {},
   "outputs": [],
   "source": [
    "from IPython.core.interactiveshell import InteractiveShell\n",
    "InteractiveShell.ast_node_interactivity = \"all\""
   ]
  },
  {
   "cell_type": "code",
   "execution_count": 3,
   "metadata": {},
   "outputs": [],
   "source": [
    "%load_ext autoreload\n",
    "%autoreload 2"
   ]
  },
  {
   "cell_type": "code",
   "execution_count": 4,
   "metadata": {},
   "outputs": [],
   "source": [
    "import copy\n",
    "import numpy as np\n",
    "import pandas as pd\n",
    "from pandas.testing import assert_frame_equal\n",
    "from pandas.testing import assert_series_equal\n",
    "from sklearn.tree import DecisionTreeClassifier\n",
    "from xgboost import XGBClassifier\n",
    "import treelite\n",
    "import treelite_runtime\n",
    "import dill\n",
    "from sklearn.metrics import make_scorer\n",
    "from sklearn.model_selection import StratifiedKFold\n",
    "from sklearn.model_selection import RandomizedSearchCV\n",
    "from xgboost import XGBClassifier\n",
    "import matplotlib.pyplot as plt\n",
    "import seaborn as sns\n",
    "cmap = sns.color_palette(\"vlag\", as_cmap=True)"
   ]
  },
  {
   "cell_type": "markdown",
   "metadata": {},
   "source": [
    "**Gators** imports"
   ]
  },
  {
   "cell_type": "code",
   "execution_count": 5,
   "metadata": {},
   "outputs": [],
   "source": [
    "# data cleaning\n",
    "from gators.data_cleaning import (\n",
    "    DropColumns,\n",
    "    Replace,\n",
    ")\n",
    "# imputers\n",
    "from gators.imputers import (\n",
    "    NumericsImputer, \n",
    "    ObjectImputer,\n",
    ")\n",
    "# encoders\n",
    "from gators.encoders import (\n",
    "    WOEEncoder,\n",
    "    TargetEncoder,\n",
    ")\n",
    "# binning\n",
    "from gators.binning import (\n",
    "    BinRareCategories,\n",
    "    BinSingleTargetClassCategories,\n",
    "    Binning,\n",
    "    TreeBinning,\n",
    ")\n",
    "# feature generation\n",
    "from gators.feature_generation import (\n",
    "    ElementaryArithmetics,\n",
    "    PolynomialObjectFeatures,\n",
    "    IsNull,\n",
    ")\n",
    "from gators.feature_generation_str import (\n",
    "    StringContains,\n",
    "    StringLength,\n",
    "    SplitExtract,\n",
    ")\n",
    "# feature selection\n",
    "from gators.feature_selection import (\n",
    "    InformationValue\n",
    ")\n",
    "# model building\n",
    "from gators.model_building import (\n",
    "    TrainTestSplit,\n",
    "    XGBBoosterBuilder,\n",
    "    XGBTreeliteDumper,\n",
    ")\n",
    "# pipeline\n",
    "from gators.pipeline import Pipeline"
   ]
  },
  {
   "cell_type": "code",
   "execution_count": 6,
   "metadata": {},
   "outputs": [],
   "source": [
    "data = pd.read_parquet('data/titanic.parquet')\n",
    "data = data.reset_index(drop=True)\n",
    "y = data['Survived']\n",
    "X = data.drop('Survived', axis=1)\n",
    "train_test_split = TrainTestSplit(test_ratio=0.3, strategy='stratified')\n",
    "X_train, X_test, y_train, y_test = train_test_split.transform(X, y)"
   ]
  },
  {
   "cell_type": "markdown",
   "metadata": {},
   "source": [
    "## data analysis"
   ]
  },
  {
   "cell_type": "code",
   "execution_count": 7,
   "metadata": {
    "scrolled": true
   },
   "outputs": [
    {
     "data": {
      "text/html": [
       "<div>\n",
       "<style scoped>\n",
       "    .dataframe tbody tr th:only-of-type {\n",
       "        vertical-align: middle;\n",
       "    }\n",
       "\n",
       "    .dataframe tbody tr th {\n",
       "        vertical-align: top;\n",
       "    }\n",
       "\n",
       "    .dataframe thead th {\n",
       "        text-align: right;\n",
       "    }\n",
       "</style>\n",
       "<table border=\"1\" class=\"dataframe\">\n",
       "  <thead>\n",
       "    <tr style=\"text-align: right;\">\n",
       "      <th></th>\n",
       "      <th>Pclass</th>\n",
       "      <th>Name</th>\n",
       "      <th>Sex</th>\n",
       "      <th>Age</th>\n",
       "      <th>SibSp</th>\n",
       "      <th>Parch</th>\n",
       "      <th>Ticket</th>\n",
       "      <th>Fare</th>\n",
       "      <th>Cabin</th>\n",
       "      <th>Embarked</th>\n",
       "    </tr>\n",
       "  </thead>\n",
       "  <tbody>\n",
       "    <tr>\n",
       "      <th>614</th>\n",
       "      <td>3</td>\n",
       "      <td>Brocklebank, Mr. William Alfred</td>\n",
       "      <td>male</td>\n",
       "      <td>35.0</td>\n",
       "      <td>0</td>\n",
       "      <td>0</td>\n",
       "      <td>364512</td>\n",
       "      <td>8.0500</td>\n",
       "      <td>None</td>\n",
       "      <td>S</td>\n",
       "    </tr>\n",
       "    <tr>\n",
       "      <th>138</th>\n",
       "      <td>3</td>\n",
       "      <td>Osen, Mr. Olaf Elon</td>\n",
       "      <td>male</td>\n",
       "      <td>16.0</td>\n",
       "      <td>0</td>\n",
       "      <td>0</td>\n",
       "      <td>7534</td>\n",
       "      <td>9.2167</td>\n",
       "      <td>None</td>\n",
       "      <td>S</td>\n",
       "    </tr>\n",
       "  </tbody>\n",
       "</table>\n",
       "</div>"
      ],
      "text/plain": [
       "     Pclass                             Name   Sex   Age  SibSp  Parch  \\\n",
       "614       3  Brocklebank, Mr. William Alfred  male  35.0      0      0   \n",
       "138       3              Osen, Mr. Olaf Elon  male  16.0      0      0   \n",
       "\n",
       "     Ticket    Fare Cabin Embarked  \n",
       "614  364512  8.0500  None        S  \n",
       "138    7534  9.2167  None        S  "
      ]
     },
     "execution_count": 7,
     "metadata": {},
     "output_type": "execute_result"
    }
   ],
   "source": [
    "X_train.head(2)"
   ]
  },
  {
   "cell_type": "code",
   "execution_count": 8,
   "metadata": {},
   "outputs": [
    {
     "data": {
      "image/png": "[encoded data removed]",
      "text/plain": [
       "<Figure size 345.6x216 with 1 Axes>"
      ]
     },
     "metadata": {
      "needs_background": "light"
     },
     "output_type": "display_data"
    }
   ],
   "source": [
    "X_train.dtypes.value_counts().plot(\n",
    "    figsize=(3*1.6, 3), \n",
    "    kind='barh', \n",
    "    title='column datatype',\n",
    "    ylabel='dtype',\n",
    "    xlabel='count',\n",
    ");"
   ]
  },
  {
   "cell_type": "code",
   "execution_count": 9,
   "metadata": {},
   "outputs": [
    {
     "data": {
      "image/png": "[encoded data removed]",
      "text/plain": [
       "<Figure size 345.6x216 with 1 Axes>"
      ]
     },
     "metadata": {
      "needs_background": "light"
     },
     "output_type": "display_data"
    }
   ],
   "source": [
    "label_counts = data['Survived'].value_counts(normalize=True).sort_values().iloc[::-1]\n",
    "label_counts.plot(\n",
    "    kind='barh', \n",
    "    figsize=(3*1.6, 3), \n",
    "    title='label distribution',\n",
    "    xlabel='label',\n",
    ");"
   ]
  },
  {
   "cell_type": "code",
   "execution_count": 10,
   "metadata": {},
   "outputs": [
    {
     "data": {
      "image/png": "[encoded data removed]",
      "text/plain": [
       "<Figure size 160x259.2 with 1 Axes>"
      ]
     },
     "metadata": {
      "needs_background": "light"
     },
     "output_type": "display_data"
    },
    {
     "data": {
      "image/png": "[encoded data removed]",
      "text/plain": [
       "<Figure size 53.3333x86.4 with 1 Axes>"
      ]
     },
     "metadata": {
      "needs_background": "light"
     },
     "output_type": "display_data"
    },
    {
     "data": {
      "image/png": "[encoded data removed]",
      "text/plain": [
       "<Figure size 106.667x172.8 with 1 Axes>"
      ]
     },
     "metadata": {
      "needs_background": "light"
     },
     "output_type": "display_data"
    },
    {
     "data": {
      "image/png": "[encoded data removed]",
      "text/plain": [
       "<Figure size 80x129.6 with 1 Axes>"
      ]
     },
     "metadata": {
      "needs_background": "light"
     },
     "output_type": "display_data"
    },
    {
     "data": {
      "image/png": "[encoded data removed]",
      "text/plain": [
       "<Figure size 53.3333x86.4 with 1 Axes>"
      ]
     },
     "metadata": {
      "needs_background": "light"
     },
     "output_type": "display_data"
    }
   ],
   "source": [
    "steps = [\n",
    "    ('StringLength', StringLength(columns=['Ticket'])),\n",
    "    ('SplitExtractName', SplitExtract(['Name'], [', '], [1], ['Dummy'])),\n",
    "    ('SplitExtractTitle', SplitExtract(['Dummy'], ['.'], [0], ['Title'])),\n",
    "    ('IsNull', IsNull(columns=['Age', 'Cabin'])),\n",
    "    ('DropColumns', DropColumns(['Name',  'Dummy', 'Cabin', 'Ticket'])),\n",
    "    ('ObjectImputer', ObjectImputer(strategy='constant', value='MISSING')),\n",
    "    ('BinSingleTargetClassCategories', BinSingleTargetClassCategories()),\n",
    "    ('NumericsImputer', NumericsImputer(strategy='mean')),\n",
    "    ('ElementaryArithmetics', ElementaryArithmetics(\n",
    "        operator='+',\n",
    "        columns_a=['SibSp'], \n",
    "        columns_b=['Parch'], \n",
    "        column_names=['FamilySize'])),\n",
    "    ('TreeBinning', TreeBinning(\n",
    "        tree=DecisionTreeClassifier(max_depth=3, min_samples_leaf=120),\n",
    "        inplace=True)),\n",
    "    ('Encoder', TargetEncoder(add_missing_categories=False)),\n",
    "]\n",
    "pipe = Pipeline(steps=steps)\n",
    "_ = pipe.fit(X_train.copy(), y_train)\n",
    "_ = pipe.display_encoder_mapping(cmap=cmap, describe='survided ratio');"
   ]
  },
  {
   "cell_type": "markdown",
   "metadata": {},
   "source": [
    "### adding polynomial object features"
   ]
  },
  {
   "cell_type": "code",
   "execution_count": 11,
   "metadata": {},
   "outputs": [
    {
     "data": {
      "image/png": "[encoded data removed]",
      "text/plain": [
       "<Figure size 133.333x216 with 1 Axes>"
      ]
     },
     "metadata": {
      "needs_background": "light"
     },
     "output_type": "display_data"
    },
    {
     "data": {
      "image/png": "[encoded data removed]",
      "text/plain": [
       "<Figure size 160x259.2 with 1 Axes>"
      ]
     },
     "metadata": {
      "needs_background": "light"
     },
     "output_type": "display_data"
    },
    {
     "data": {
      "image/png": "[encoded data removed]",
      "text/plain": [
       "<Figure size 133.333x216 with 1 Axes>"
      ]
     },
     "metadata": {
      "needs_background": "light"
     },
     "output_type": "display_data"
    },
    {
     "data": {
      "image/png": "[encoded data removed]",
      "text/plain": [
       "<Figure size 106.667x172.8 with 1 Axes>"
      ]
     },
     "metadata": {
      "needs_background": "light"
     },
     "output_type": "display_data"
    },
    {
     "data": {
      "image/png": "[encoded data removed]",
      "text/plain": [
       "<Figure size 133.333x216 with 1 Axes>"
      ]
     },
     "metadata": {
      "needs_background": "light"
     },
     "output_type": "display_data"
    }
   ],
   "source": [
    "steps = [\n",
    "    ('StringLength', StringLength(columns=['Ticket'])),\n",
    "    ('SplitExtractName', SplitExtract(['Name'], [', '], [1], ['Dummy'])),\n",
    "    ('SplitExtractTitle', SplitExtract(['Dummy'], ['.'], [0], ['Title'])),\n",
    "    ('IsNull', IsNull(columns=['Age', 'Cabin'])),\n",
    "    ('DropColumns', DropColumns(['Name',  'Dummy', 'Cabin', 'Ticket'])),\n",
    "    ('ObjectImputer', ObjectImputer(strategy='constant', value='MISSING')),\n",
    "    ('BinSingleTargetClassCategories', BinSingleTargetClassCategories()),\n",
    "    ('NumericsImputer', NumericsImputer(strategy='mean')),\n",
    "    ('ElementaryArithmetics', ElementaryArithmetics(\n",
    "        operator='+',\n",
    "        columns_a=['SibSp'], \n",
    "        columns_b=['Parch'], \n",
    "        column_names=['FamilySize'])),\n",
    "    ('TreeBinning', TreeBinning(\n",
    "        tree=DecisionTreeClassifier(max_depth=3, min_samples_leaf=120),\n",
    "        inplace=True)),\n",
    "    ('Replace', Replace(\n",
    "        to_replace_dict={\n",
    "            'Fare': {\n",
    "                '_0': 'EconomicFare', \n",
    "                '_1': 'EconomicPlusFare', \n",
    "                '_2': 'BussinessFare', \n",
    "                '_3': 'FirstClassFare',},\n",
    "            'Pclass': {'_0': '1stClass', '_1': '2ndClass', '_2': '3rdClass'},\n",
    "            'Sex': {'female': 'Woman', 'male': 'Man'},\n",
    "            'FamilySize': {'_0': 'Teenager', '_1': 'Adult', '_2': 'Senior'},\n",
    "            'Age': {'_0': 'NoFamily', '_1': 'SmallFamily', '_2': 'LargeFamily'}\n",
    "        }\n",
    "    )),\n",
    "    ('PolynomialObjectFeatures', PolynomialObjectFeatures(\n",
    "        columns=['Pclass', 'Sex', 'Age', 'Fare', 'Embarked', 'Title', 'FamilySize'],\n",
    "        degree=2)),\n",
    "    ('DropPolynomialColumns', DropColumns(columns=['Sex__Title'])),\n",
    "    ('CleanCategories', BinRareCategories(min_ratio=0.1)),\n",
    "    ('Encoder', TargetEncoder(add_missing_categories=False)),\n",
    "]\n",
    "pipe = Pipeline(steps=steps)\n",
    "_ = pipe.fit(X_train.copy(), y_train)\n",
    "_ = pipe.display_encoder_mapping(cmap=cmap, decimals=2, describe='survived ratio')"
   ]
  },
  {
   "cell_type": "markdown",
   "metadata": {},
   "source": [
    "## offline pipeline - feature selection"
   ]
  },
  {
   "cell_type": "code",
   "execution_count": 12,
   "metadata": {},
   "outputs": [],
   "source": [
    "k = 12\n",
    "model = XGBClassifier(\n",
    "    random_state=0, \n",
    "    eval_metric='logloss', \n",
    ")\n",
    "offline_steps = [\n",
    "    ('StringLength', StringLength(columns=['Ticket'])),\n",
    "    ('SplitExtractName', SplitExtract(['Name'], [', '], [1], ['Dummy'])),\n",
    "    ('SplitExtractTitle', SplitExtract(['Dummy'], ['.'], [0], ['Title'])),\n",
    "    ('IsNull', IsNull(columns=['Age', 'Cabin'])),\n",
    "    ('DropColumns', DropColumns(['Name',  'Dummy', 'Cabin', 'Ticket'])),\n",
    "    ('ObjectImputer', ObjectImputer(strategy='constant', value='MISSING')),\n",
    "    ('BinSingleTargetClassCategories', BinSingleTargetClassCategories()),\n",
    "    ('NumericsImputer', NumericsImputer(strategy='mean')),\n",
    "    ('ElementaryArithmetics', ElementaryArithmetics(\n",
    "        operator='+',\n",
    "        columns_a=['SibSp'], \n",
    "        columns_b=['Parch'], \n",
    "        column_names=['FamilySize'])),\n",
    "    ('TreeBinning', TreeBinning(\n",
    "        tree=DecisionTreeClassifier(max_depth=3, min_samples_leaf=120),\n",
    "        inplace=True)),\n",
    "    ('CleanCategories', BinRareCategories(min_ratio=0.)),\n",
    "    ('InformationValue', InformationValue(k=k)),\n",
    "]\n",
    "offline_pipe = Pipeline(steps=offline_steps)\n",
    "X_train_prepro = offline_pipe.fit_transform(X_train.copy(), y_train)\n",
    "features = list(X_train_prepro.columns)"
   ]
  },
  {
   "cell_type": "code",
   "execution_count": 13,
   "metadata": {},
   "outputs": [
    {
     "data": {
      "image/png": "[encoded data removed]",
      "text/plain": [
       "<Figure size 216x345.6 with 1 Axes>"
      ]
     },
     "metadata": {
      "needs_background": "light"
     },
     "output_type": "display_data"
    }
   ],
   "source": [
    "offline_pipe.steps[-1][1].feature_importances_.iloc[::-1].plot(\n",
    "    kind='barh', \n",
    "    figsize=(3, 3*1.6), \n",
    "    title='Feature Importance',\n",
    ");"
   ]
  },
  {
   "cell_type": "markdown",
   "metadata": {},
   "source": [
    "All the features will be used."
   ]
  },
  {
   "cell_type": "markdown",
   "metadata": {},
   "source": [
    "## pipeline optimization"
   ]
  },
  {
   "cell_type": "code",
   "execution_count": 14,
   "metadata": {},
   "outputs": [
    {
     "name": "stdout",
     "output_type": "stream",
     "text": [
      "Fitting 5 folds for each of 30 candidates, totalling 150 fits\n"
     ]
    }
   ],
   "source": [
    "steps = [\n",
    "    ('StringLength', StringLength(columns=['Ticket'])),\n",
    "    ('SplitExtractName', SplitExtract(['Name'], [', '], [1], ['Dummy'])),\n",
    "    ('SplitExtractTitle', SplitExtract(['Dummy'], ['.'], [0], ['Title'])),\n",
    "    ('IsNull', IsNull(columns=['Age', 'Cabin'])),\n",
    "    ('DropColumns', DropColumns(['Name',  'Dummy', 'Cabin', 'Ticket'])),\n",
    "    ('ObjectImputer', ObjectImputer(strategy='constant', value='MISSING')),\n",
    "    ('BinSingleTargetClassCategories', BinSingleTargetClassCategories()),\n",
    "    ('NumericsImputer', NumericsImputer(strategy='mean', value=-1)),\n",
    "    ('ElementaryArithmetics', ElementaryArithmetics(\n",
    "        operator='+',\n",
    "        columns_a=['SibSp'], \n",
    "        columns_b=['Parch'], \n",
    "        column_names=['FamilySize'])),\n",
    "    ('TreeBinning', TreeBinning(\n",
    "        tree=DecisionTreeClassifier(max_depth=2, min_samples_leaf=120),\n",
    "        inplace=True)),\n",
    "    ('PolynomialObjectFeatures', PolynomialObjectFeatures(\n",
    "        columns=['Pclass', 'Sex', 'Age', 'Fare', 'Embarked', 'Title', 'FamilySize'],\n",
    "        degree=2)),\n",
    "    ('CleanCategories', BinRareCategories(min_ratio=0.1)),\n",
    "    ('Encoder', WOEEncoder()),\n",
    "    ('ESTIMATOR', XGBClassifier(random_state=0, eval_metric='logloss', use_label_encoder=False))\n",
    "]\n",
    "\n",
    "\n",
    "param_distributions = {\n",
    "    \"NumericsImputer__strategy\": [\"mean\", \"most_frequent\", \"constant\"],\n",
    "    \"TreeBinning__tree\": [\n",
    "        DecisionTreeClassifier(\n",
    "            max_depth=2, \n",
    "            min_samples_leaf=25, \n",
    "            random_state=0),\n",
    "        DecisionTreeClassifier(\n",
    "            max_depth=2, \n",
    "            min_samples_leaf=50, \n",
    "            random_state=0),\n",
    "        DecisionTreeClassifier(\n",
    "            max_depth=2, \n",
    "            min_samples_leaf=100, \n",
    "            random_state=0),\n",
    "        DecisionTreeClassifier(\n",
    "            max_depth=2, \n",
    "            min_samples_leaf=150, \n",
    "            random_state=0),\n",
    "    ],\n",
    "    \"CleanCategories__min_ratio\": [0, 0.1, 0.2],\n",
    "    'ESTIMATOR__max_depth': [3, 4, 5],\n",
    "    'ESTIMATOR__subsample': [0.4, 0.6, .8],\n",
    "    'ESTIMATOR__colsample_bytree': [0.4, 0.6, .8],\n",
    "    'ESTIMATOR__colsample_bylevel': [0.4, 0.6, .8],\n",
    "    'ESTIMATOR__min_child_weight': [10, 20, 30],\n",
    "}\n",
    "def f1_score(y_true, y_pred):\n",
    "    p = y_true[y_pred == 1].mean()\n",
    "    r = y_pred[y_true == 1].mean()\n",
    "    if (p == 0) | (r == 0):\n",
    "        return 0\n",
    "    return 2 * p * r / (p + r)\n",
    "f1_scoring = make_scorer(f1_score)\n",
    "\n",
    "from sklearn.metrics import log_loss\n",
    "\n",
    "cv = StratifiedKFold(n_splits=5, random_state=0, shuffle=True)\n",
    "search = RandomizedSearchCV(\n",
    "    Pipeline(steps=steps),\n",
    "    param_distributions=param_distributions, \n",
    "    n_iter=30,\n",
    "    cv=cv,\n",
    "    scoring=f1_scoring,\n",
    "    n_jobs=-1,\n",
    "    random_state=0,\n",
    "    verbose=True)\n",
    "_ = search.fit(X_train.copy(), y_train)"
   ]
  },
  {
   "cell_type": "markdown",
   "metadata": {},
   "source": [
    "## model evaluation"
   ]
  },
  {
   "cell_type": "code",
   "execution_count": 15,
   "metadata": {},
   "outputs": [
    {
     "name": "stdout",
     "output_type": "stream",
     "text": [
      "MAX F1-score test set: 0.80\n"
     ]
    }
   ],
   "source": [
    "thresholds = np.linspace(0, 1, 25)[1:-1]\n",
    "y_train_pred_proba = search.best_estimator_.predict_proba(X_train.copy())[:, 1]\n",
    "y_test_pred_proba = search.best_estimator_.predict_proba(X_test.copy())[:, 1]\n",
    "fscores_train = [f1_score(y_train, y_train_pred_proba > t) for t in thresholds]\n",
    "fscores_test = [f1_score(y_test, y_test_pred_proba > t) for t in thresholds]\n",
    "print(f'MAX F1-score test set: {max(fscores_test):.2f}')"
   ]
  },
  {
   "cell_type": "code",
   "execution_count": 16,
   "metadata": {
    "scrolled": true
   },
   "outputs": [
    {
     "data": {
      "image/png": "[encoded data removed]",
      "text/plain": [
       "<Figure size 460.8x288 with 1 Axes>"
      ]
     },
     "metadata": {
      "needs_background": "light"
     },
     "output_type": "display_data"
    }
   ],
   "source": [
    "fig, ax = plt.subplots(figsize=[4 *1.6, 4]);\n",
    "_ = plt.plot(thresholds, fscores_train, '--o', label='train set');\n",
    "_ = plt.plot(thresholds, fscores_test, '--o', label='test set');\n",
    "_ = plt.title('f-score vs threshold');\n",
    "_ = plt.xlabel('thresholds');\n",
    "_ = plt.ylabel('f-score');\n",
    "_ = plt.legend()"
   ]
  },
  {
   "cell_type": "markdown",
   "metadata": {},
   "source": [
    "## production pipeline & model"
   ]
  },
  {
   "cell_type": "code",
   "execution_count": 17,
   "metadata": {},
   "outputs": [],
   "source": [
    "prod_pipe = copy.deepcopy(search.best_estimator_)\n",
    "_ = prod_pipe.steps.pop(-1)\n",
    "model_pd = copy.deepcopy(search.best_estimator_.steps[-1][1])"
   ]
  },
  {
   "cell_type": "code",
   "execution_count": 18,
   "metadata": {},
   "outputs": [
    {
     "name": "stdout",
     "output_type": "stream",
     "text": [
      "[06:10:54] /Users/travis/build/dmlc/treelite/src/compiler/ast_native.cc:711: Using ASTNativeCompiler\n",
      "[06:10:54] /Users/travis/build/dmlc/treelite/src/compiler/ast/split.cc:29: Parallel compilation enabled; member trees will be divided into 4 translation units.\n",
      "[06:10:54] /Users/travis/build/dmlc/treelite/src/c_api/c_api.cc:92: Code generation finished. Writing code to files...\n",
      "[06:10:54] /Users/travis/build/dmlc/treelite/src/c_api/c_api.cc:97: Writing file recipe.json...\n",
      "[06:10:54] /Users/travis/build/dmlc/treelite/src/c_api/c_api.cc:97: Writing file tu3.c...\n",
      "[06:10:54] /Users/travis/build/dmlc/treelite/src/c_api/c_api.cc:97: Writing file tu2.c...\n",
      "[06:10:54] /Users/travis/build/dmlc/treelite/src/c_api/c_api.cc:97: Writing file tu1.c...\n",
      "[06:10:54] /Users/travis/build/dmlc/treelite/src/c_api/c_api.cc:97: Writing file tu0.c...\n",
      "[06:10:54] /Users/travis/build/dmlc/treelite/src/c_api/c_api.cc:97: Writing file header.h...\n",
      "[06:10:54] /Users/travis/build/dmlc/treelite/src/c_api/c_api.cc:97: Writing file main.c...\n",
      "[06:10:54] /Users/cpoli/gators37/lib/python3.7/site-packages/treelite/contrib/util.py:105: Compiling sources files in directory ./models/tmp7v2zjdol into object files (*.o)...\n",
      "[06:10:54] /Users/cpoli/gators37/lib/python3.7/site-packages/treelite/contrib/util.py:135: Generating dynamic shared library ./models/tmp7v2zjdol/predictor.dylib...\n",
      "[06:10:54] /Users/cpoli/gators37/lib/python3.7/site-packages/treelite/contrib/__init__.py:282: Generated shared library in 0.39 seconds\n"
     ]
    }
   ],
   "source": [
    "X_train_prepro_np = prod_pipe.transform_numpy(X_train.copy().to_numpy())\n",
    "y_train_np = y_train.to_numpy()\n",
    "\n",
    "xgb_booster = XGBBoosterBuilder.train(\n",
    "    model=model_pd, \n",
    "    X_train=X_train_prepro_np, \n",
    "    y_train=y_train.to_numpy(),\n",
    ")\n",
    "\n",
    "treelite_model = treelite.Model.from_xgboost(xgb_booster)\n",
    "treelite_model.export_lib(\n",
    "    toolchain='gcc', \n",
    "    libpath='./models/treelite_xgb_titanic.so', \n",
    "    params={'parallel_comp': 4},\n",
    "    verbose=True\n",
    ")\n",
    "model_prod = treelite_runtime.Predictor(\n",
    "    './models/treelite_xgb_titanic.so', verbose=False)"
   ]
  },
  {
   "cell_type": "markdown",
   "metadata": {},
   "source": [
    "### check if Pandas & Treelite predictions match"
   ]
  },
  {
   "cell_type": "code",
   "execution_count": 19,
   "metadata": {},
   "outputs": [],
   "source": [
    "X_test_np = X_test.to_numpy()\n",
    "y_pred_pd = model_pd.predict_proba(\n",
    "    prod_pipe.transform(X_test.copy()))[:, 1]\n",
    "y_pred_tl = model_prod.predict(\n",
    "    treelite_runtime.DMatrix(\n",
    "        prod_pipe.transform_numpy(\n",
    "            X_test_np.copy()\n",
    "        )\n",
    "    )\n",
    ")\n",
    "assert np.allclose(y_pred_pd, y_pred_tl)"
   ]
  },
  {
   "cell_type": "markdown",
   "metadata": {},
   "source": [
    "## per-sample bechmarking"
   ]
  },
  {
   "cell_type": "markdown",
   "metadata": {},
   "source": [
    "### pipeline only"
   ]
  },
  {
   "cell_type": "code",
   "execution_count": 20,
   "metadata": {},
   "outputs": [
    {
     "name": "stdout",
     "output_type": "stream",
     "text": [
      "69.9 ms ± 4.11 ms per loop (mean ± std. dev. of 7 runs, 10 loops each)\n",
      "76.2 µs ± 3.81 µs per loop (mean ± std. dev. of 7 runs, 10000 loops each)\n"
     ]
    }
   ],
   "source": [
    "x = X_test.iloc[[0]]\n",
    "x_np = x.to_numpy()\n",
    "stats_pd = %timeit -o prod_pipe.transform(x)\n",
    "stats_np = %timeit -o prod_pipe.transform_numpy(x_np.copy())"
   ]
  },
  {
   "cell_type": "code",
   "execution_count": 21,
   "metadata": {},
   "outputs": [
    {
     "data": {
      "text/plain": [
       "'Speed-up Pandas VS Numpy x917'"
      ]
     },
     "execution_count": 21,
     "metadata": {},
     "output_type": "execute_result"
    }
   ],
   "source": [
    "speedup = 1e3 * float(str(stats_pd).split(' ')[0]) / float(str(stats_np).split(' ')[0])\n",
    "f'Speed-up Pandas VS Numpy x{round(speedup)}'"
   ]
  },
  {
   "cell_type": "markdown",
   "metadata": {},
   "source": [
    "### pipeline & model"
   ]
  },
  {
   "cell_type": "code",
   "execution_count": 22,
   "metadata": {},
   "outputs": [],
   "source": [
    "import warnings\n",
    "warnings.simplefilter(action='ignore', category=FutureWarning)"
   ]
  },
  {
   "cell_type": "code",
   "execution_count": 23,
   "metadata": {},
   "outputs": [
    {
     "name": "stdout",
     "output_type": "stream",
     "text": [
      "113 ms ± 8.48 ms per loop (mean ± std. dev. of 7 runs, 10 loops each)\n",
      "148 µs ± 5.12 µs per loop (mean ± std. dev. of 7 runs, 1000 loops each)\n"
     ]
    }
   ],
   "source": [
    "stats_pd = %timeit -o model_pd.predict(prod_pipe.transform(x))[0]\n",
    "stats_tl = %timeit -o  model_prod.predict(treelite_runtime.DMatrix(prod_pipe.transform_numpy(x_np.copy())))"
   ]
  },
  {
   "cell_type": "code",
   "execution_count": 24,
   "metadata": {},
   "outputs": [
    {
     "data": {
      "text/plain": [
       "'Speed-up Pandas VS Numpy&Treelite x764'"
      ]
     },
     "execution_count": 24,
     "metadata": {},
     "output_type": "execute_result"
    }
   ],
   "source": [
    "speedup = 1e3 * float(str(stats_pd).split(' ')[0]) / float(str(stats_tl).split(' ')[0])\n",
    "f'Speed-up Pandas VS Numpy&Treelite x{round(speedup)}'"
   ]
  },
  {
   "cell_type": "code",
   "execution_count": null,
   "metadata": {},
   "outputs": [],
   "source": []
  }
 ],
 "metadata": {
  "kernelspec": {
   "display_name": "gators37",
   "language": "python",
   "name": "gators37"
  },
  "language_info": {
   "codemirror_mode": {
    "name": "ipython",
    "version": 3
   },
   "file_extension": ".py",
   "mimetype": "text/x-python",
   "name": "python",
   "nbconvert_exporter": "python",
   "pygments_lexer": "ipython3",
   "version": "3.7.9"
  }
 },
 "nbformat": 4,
 "nbformat_minor": 2
}

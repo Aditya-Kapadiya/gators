{
 "cells": [
  {
   "cell_type": "markdown",
   "metadata": {},
   "source": [
    "# binary classification example - titanic dataset"
   ]
  },
  {
   "cell_type": "code",
   "execution_count": 1,
   "metadata": {},
   "outputs": [],
   "source": [
    "import warnings\n",
    "warnings.filterwarnings('ignore')"
   ]
  },
  {
   "cell_type": "code",
   "execution_count": 2,
   "metadata": {},
   "outputs": [],
   "source": [
    "from IPython.core.interactiveshell import InteractiveShell\n",
    "InteractiveShell.ast_node_interactivity = \"all\""
   ]
  },
  {
   "cell_type": "code",
   "execution_count": 3,
   "metadata": {},
   "outputs": [],
   "source": [
    "%load_ext autoreload\n",
    "%autoreload 2"
   ]
  },
  {
   "cell_type": "code",
   "execution_count": 4,
   "metadata": {},
   "outputs": [],
   "source": [
    "import copy\n",
    "import numpy as np\n",
    "import pandas as pd\n",
    "from pandas.testing import assert_frame_equal\n",
    "from pandas.testing import assert_series_equal\n",
    "from sklearn.tree import DecisionTreeClassifier\n",
    "from xgboost import XGBClassifier\n",
    "import treelite\n",
    "import treelite_runtime\n",
    "import dill\n",
    "from sklearn.metrics import make_scorer\n",
    "from sklearn.model_selection import StratifiedKFold\n",
    "from sklearn.model_selection import RandomizedSearchCV\n",
    "from xgboost import XGBClassifier\n",
    "import matplotlib.pyplot as plt\n",
    "import seaborn as sns\n",
    "cmap = sns.color_palette(\"vlag\", as_cmap=True)"
   ]
  },
  {
   "cell_type": "markdown",
   "metadata": {},
   "source": [
    "**Gators** imports"
   ]
  },
  {
   "cell_type": "code",
   "execution_count": 5,
   "metadata": {},
   "outputs": [],
   "source": [
    "# data cleaning\n",
    "from gators.data_cleaning import (\n",
    "    DropColumns,\n",
    "    Replace,\n",
    ")\n",
    "# imputers\n",
    "from gators.imputers import (\n",
    "    NumericsImputer, \n",
    "    ObjectImputer,\n",
    ")\n",
    "# encoders\n",
    "from gators.encoders import (\n",
    "    WOEEncoder,\n",
    ")\n",
    "# binning\n",
    "from gators.binning import (\n",
    "    BinRareCategories,\n",
    "    BinSingleTargetClassCategories,\n",
    "    Binning,\n",
    "    TreeBinning,\n",
    ")\n",
    "# feature generation\n",
    "from gators.feature_generation import (\n",
    "    ElementaryArithmetics,\n",
    "    PolynomialObjectFeatures,\n",
    "    IsNull,\n",
    ")\n",
    "from gators.feature_generation_str import (\n",
    "    StringContains,\n",
    "    StringLength,\n",
    "    SplitExtract,\n",
    ")\n",
    "# feature selection\n",
    "from gators.feature_selection import (\n",
    "    InformationValue\n",
    ")\n",
    "# model building\n",
    "from gators.model_building import (\n",
    "    TrainTestSplit,\n",
    "    XGBBoosterBuilder,\n",
    "    XGBTreeliteDumper,\n",
    ")\n",
    "# pipeline\n",
    "from gators.pipeline import Pipeline"
   ]
  },
  {
   "cell_type": "code",
   "execution_count": 6,
   "metadata": {},
   "outputs": [],
   "source": [
    "data = pd.read_parquet('data/titanic.parquet')\n",
    "data = data.reset_index(drop=True)\n",
    "y = data['Survived']\n",
    "X = data.drop('Survived', axis=1)\n",
    "train_test_split = TrainTestSplit(test_ratio=0.3, strategy='stratified')\n",
    "X_train, X_test, y_train, y_test = train_test_split.transform(X, y)"
   ]
  },
  {
   "cell_type": "markdown",
   "metadata": {},
   "source": [
    "## data analysis"
   ]
  },
  {
   "cell_type": "code",
   "execution_count": 7,
   "metadata": {
    "scrolled": true
   },
   "outputs": [
    {
     "data": {
      "text/html": [
       "<div>\n",
       "<style scoped>\n",
       "    .dataframe tbody tr th:only-of-type {\n",
       "        vertical-align: middle;\n",
       "    }\n",
       "\n",
       "    .dataframe tbody tr th {\n",
       "        vertical-align: top;\n",
       "    }\n",
       "\n",
       "    .dataframe thead th {\n",
       "        text-align: right;\n",
       "    }\n",
       "</style>\n",
       "<table border=\"1\" class=\"dataframe\">\n",
       "  <thead>\n",
       "    <tr style=\"text-align: right;\">\n",
       "      <th></th>\n",
       "      <th>Pclass</th>\n",
       "      <th>Name</th>\n",
       "      <th>Sex</th>\n",
       "      <th>Age</th>\n",
       "      <th>SibSp</th>\n",
       "      <th>Parch</th>\n",
       "      <th>Ticket</th>\n",
       "      <th>Fare</th>\n",
       "      <th>Cabin</th>\n",
       "      <th>Embarked</th>\n",
       "    </tr>\n",
       "  </thead>\n",
       "  <tbody>\n",
       "    <tr>\n",
       "      <th>614</th>\n",
       "      <td>3</td>\n",
       "      <td>Brocklebank, Mr. William Alfred</td>\n",
       "      <td>male</td>\n",
       "      <td>35.0</td>\n",
       "      <td>0</td>\n",
       "      <td>0</td>\n",
       "      <td>364512</td>\n",
       "      <td>8.0500</td>\n",
       "      <td>None</td>\n",
       "      <td>S</td>\n",
       "    </tr>\n",
       "    <tr>\n",
       "      <th>138</th>\n",
       "      <td>3</td>\n",
       "      <td>Osen, Mr. Olaf Elon</td>\n",
       "      <td>male</td>\n",
       "      <td>16.0</td>\n",
       "      <td>0</td>\n",
       "      <td>0</td>\n",
       "      <td>7534</td>\n",
       "      <td>9.2167</td>\n",
       "      <td>None</td>\n",
       "      <td>S</td>\n",
       "    </tr>\n",
       "  </tbody>\n",
       "</table>\n",
       "</div>"
      ],
      "text/plain": [
       "     Pclass                             Name   Sex   Age  SibSp  Parch  \\\n",
       "614       3  Brocklebank, Mr. William Alfred  male  35.0      0      0   \n",
       "138       3              Osen, Mr. Olaf Elon  male  16.0      0      0   \n",
       "\n",
       "     Ticket    Fare Cabin Embarked  \n",
       "614  364512  8.0500  None        S  \n",
       "138    7534  9.2167  None        S  "
      ]
     },
     "execution_count": 7,
     "metadata": {},
     "output_type": "execute_result"
    }
   ],
   "source": [
    "X_train.head(2)"
   ]
  },
  {
   "cell_type": "code",
   "execution_count": 8,
   "metadata": {},
   "outputs": [
    {
     "data": {
      "image/png": "[encoded data removed]",
      "text/plain": [
       "<Figure size 345.6x216 with 1 Axes>"
      ]
     },
     "metadata": {
      "needs_background": "light"
     },
     "output_type": "display_data"
    }
   ],
   "source": [
    "X_train.dtypes.value_counts().plot(\n",
    "    figsize=(3*1.6, 3), \n",
    "    kind='barh', \n",
    "    title='column datatype',\n",
    "    ylabel='dtype',\n",
    "    xlabel='count',\n",
    ");"
   ]
  },
  {
   "cell_type": "code",
   "execution_count": 9,
   "metadata": {},
   "outputs": [
    {
     "data": {
      "image/png": "[encoded data removed]",
      "text/plain": [
       "<Figure size 345.6x216 with 1 Axes>"
      ]
     },
     "metadata": {
      "needs_background": "light"
     },
     "output_type": "display_data"
    }
   ],
   "source": [
    "label_counts = data['Survived'].value_counts(normalize=True).sort_values().iloc[::-1]\n",
    "label_counts.plot(\n",
    "    kind='barh', \n",
    "    figsize=(3*1.6, 3), \n",
    "    title='label distribution',\n",
    "    xlabel='label',\n",
    ");"
   ]
  },
  {
   "cell_type": "code",
   "execution_count": 10,
   "metadata": {},
   "outputs": [
    {
     "data": {
      "text/html": [
       "<style type=\"text/css\">\n",
       "#T_84ec2_row0_col0 {\n",
       "  background-color: #2369bd;\n",
       "  color: #f1f1f1;\n",
       "}\n",
       "#T_84ec2_row1_col0 {\n",
       "  background-color: #f2f0f2;\n",
       "  color: #000000;\n",
       "}\n",
       "#T_84ec2_row2_col0 {\n",
       "  background-color: #f7ebea;\n",
       "  color: #000000;\n",
       "}\n",
       "#T_84ec2_row3_col0 {\n",
       "  background-color: #efdad8;\n",
       "  color: #000000;\n",
       "}\n",
       "#T_84ec2_row4_col0 {\n",
       "  background-color: #cd8987;\n",
       "  color: #f1f1f1;\n",
       "}\n",
       "#T_84ec2_row5_col0 {\n",
       "  background-color: #a9373b;\n",
       "  color: #f1f1f1;\n",
       "}\n",
       "</style>\n",
       "<table id=\"T_84ec2_\">\n",
       "  <thead>\n",
       "    <tr>\n",
       "      <th class=\"blank level0\" >&nbsp;</th>\n",
       "      <th class=\"col_heading level0 col0\" >WOE values</th>\n",
       "    </tr>\n",
       "    <tr>\n",
       "      <th class=\"index_name level0\" >Title</th>\n",
       "      <th class=\"blank col0\" >&nbsp;</th>\n",
       "    </tr>\n",
       "  </thead>\n",
       "  <tbody>\n",
       "    <tr>\n",
       "      <th id=\"T_84ec2_level0_row0\" class=\"row_heading level0 row0\" >Capt|Don|Jonkheer|Rev|Mr</th>\n",
       "      <td id=\"T_84ec2_row0_col0\" class=\"data row0 col0\" >-1.700000</td>\n",
       "    </tr>\n",
       "    <tr>\n",
       "      <th id=\"T_84ec2_level0_row1\" class=\"row_heading level0 row1\" >Dr</th>\n",
       "      <td id=\"T_84ec2_row1_col0\" class=\"data row1 col0\" >-0.250000</td>\n",
       "    </tr>\n",
       "    <tr>\n",
       "      <th id=\"T_84ec2_level0_row2\" class=\"row_heading level0 row2\" >Col</th>\n",
       "      <td id=\"T_84ec2_row2_col0\" class=\"data row2 col0\" >0.000000</td>\n",
       "    </tr>\n",
       "    <tr>\n",
       "      <th id=\"T_84ec2_level0_row3\" class=\"row_heading level0 row3\" >Master</th>\n",
       "      <td id=\"T_84ec2_row3_col0\" class=\"data row3 col0\" >0.140000</td>\n",
       "    </tr>\n",
       "    <tr>\n",
       "      <th id=\"T_84ec2_level0_row4\" class=\"row_heading level0 row4\" >Miss</th>\n",
       "      <td id=\"T_84ec2_row4_col0\" class=\"data row4 col0\" >0.780000</td>\n",
       "    </tr>\n",
       "    <tr>\n",
       "      <th id=\"T_84ec2_level0_row5\" class=\"row_heading level0 row5\" >Mrs|Lady|Mlle|Sir|the Countess</th>\n",
       "      <td id=\"T_84ec2_row5_col0\" class=\"data row5 col0\" >1.450000</td>\n",
       "    </tr>\n",
       "  </tbody>\n",
       "</table>\n"
      ],
      "text/plain": [
       "<pandas.io.formats.style.Styler at 0x7f88b8514b80>"
      ]
     },
     "metadata": {},
     "output_type": "display_data"
    },
    {
     "data": {
      "text/html": [
       "<style type=\"text/css\">\n",
       "#T_b3c91_row0_col0 {\n",
       "  background-color: #4e7dbc;\n",
       "  color: #f1f1f1;\n",
       "}\n",
       "#T_b3c91_row1_col0 {\n",
       "  background-color: #c06967;\n",
       "  color: #f1f1f1;\n",
       "}\n",
       "</style>\n",
       "<table id=\"T_b3c91_\">\n",
       "  <thead>\n",
       "    <tr>\n",
       "      <th class=\"blank level0\" >&nbsp;</th>\n",
       "      <th class=\"col_heading level0 col0\" >WOE values</th>\n",
       "    </tr>\n",
       "    <tr>\n",
       "      <th class=\"index_name level0\" >Sex</th>\n",
       "      <th class=\"blank col0\" >&nbsp;</th>\n",
       "    </tr>\n",
       "  </thead>\n",
       "  <tbody>\n",
       "    <tr>\n",
       "      <th id=\"T_b3c91_level0_row0\" class=\"row_heading level0 row0\" >male</th>\n",
       "      <td id=\"T_b3c91_row0_col0\" class=\"data row0 col0\" >-1.470000</td>\n",
       "    </tr>\n",
       "    <tr>\n",
       "      <th id=\"T_b3c91_level0_row1\" class=\"row_heading level0 row1\" >female</th>\n",
       "      <td id=\"T_b3c91_row1_col0\" class=\"data row1 col0\" >1.050000</td>\n",
       "    </tr>\n",
       "  </tbody>\n",
       "</table>\n"
      ],
      "text/plain": [
       "<pandas.io.formats.style.Styler at 0x7f89206a1400>"
      ]
     },
     "metadata": {},
     "output_type": "display_data"
    },
    {
     "data": {
      "text/html": [
       "<style type=\"text/css\">\n",
       "#T_813b4_row0_col0 {\n",
       "  background-color: #678bbe;\n",
       "  color: #f1f1f1;\n",
       "}\n",
       "#T_813b4_row1_col0 {\n",
       "  background-color: #f2f0f2;\n",
       "  color: #000000;\n",
       "}\n",
       "#T_813b4_row2_col0 {\n",
       "  background-color: #dcdee6;\n",
       "  color: #000000;\n",
       "}\n",
       "#T_813b4_row3_col0 {\n",
       "  background-color: #dbaba8;\n",
       "  color: #000000;\n",
       "}\n",
       "</style>\n",
       "<table id=\"T_813b4_\">\n",
       "  <thead>\n",
       "    <tr>\n",
       "      <th class=\"blank level0\" >&nbsp;</th>\n",
       "      <th class=\"col_heading level0 col0\" >WOE values</th>\n",
       "    </tr>\n",
       "    <tr>\n",
       "      <th class=\"index_name level0\" >Fare</th>\n",
       "      <th class=\"blank col0\" >&nbsp;</th>\n",
       "    </tr>\n",
       "  </thead>\n",
       "  <tbody>\n",
       "    <tr>\n",
       "      <th id=\"T_813b4_level0_row0\" class=\"row_heading level0 row0\" >(-inf, 10.48125]</th>\n",
       "      <td id=\"T_813b4_row0_col0\" class=\"data row0 col0\" >-1.300000</td>\n",
       "    </tr>\n",
       "    <tr>\n",
       "      <th id=\"T_813b4_level0_row1\" class=\"row_heading level0 row1\" >(10.48125, 19.73335]</th>\n",
       "      <td id=\"T_813b4_row1_col0\" class=\"data row1 col0\" >-0.240000</td>\n",
       "    </tr>\n",
       "    <tr>\n",
       "      <th id=\"T_813b4_level0_row2\" class=\"row_heading level0 row2\" >(19.73335, 35.25]</th>\n",
       "      <td id=\"T_813b4_row2_col0\" class=\"data row2 col0\" >-0.420000</td>\n",
       "    </tr>\n",
       "    <tr>\n",
       "      <th id=\"T_813b4_level0_row3\" class=\"row_heading level0 row3\" >(35.25, inf)</th>\n",
       "      <td id=\"T_813b4_row3_col0\" class=\"data row3 col0\" >0.500000</td>\n",
       "    </tr>\n",
       "  </tbody>\n",
       "</table>\n"
      ],
      "text/plain": [
       "<pandas.io.formats.style.Styler at 0x7f89206a1a90>"
      ]
     },
     "metadata": {},
     "output_type": "display_data"
    },
    {
     "data": {
      "text/html": [
       "<style type=\"text/css\">\n",
       "#T_26533_row0_col0 {\n",
       "  background-color: #dfb4b2;\n",
       "  color: #000000;\n",
       "}\n",
       "#T_26533_row1_col0 {\n",
       "  background-color: #faf3f3;\n",
       "  color: #000000;\n",
       "}\n",
       "#T_26533_row2_col0 {\n",
       "  background-color: #839dc4;\n",
       "  color: #f1f1f1;\n",
       "}\n",
       "</style>\n",
       "<table id=\"T_26533_\">\n",
       "  <thead>\n",
       "    <tr>\n",
       "      <th class=\"blank level0\" >&nbsp;</th>\n",
       "      <th class=\"col_heading level0 col0\" >WOE values</th>\n",
       "    </tr>\n",
       "    <tr>\n",
       "      <th class=\"index_name level0\" >Pclass</th>\n",
       "      <th class=\"blank col0\" >&nbsp;</th>\n",
       "    </tr>\n",
       "  </thead>\n",
       "  <tbody>\n",
       "    <tr>\n",
       "      <th id=\"T_26533_level0_row0\" class=\"row_heading level0 row0\" >(-inf, 1.5]</th>\n",
       "      <td id=\"T_26533_row0_col0\" class=\"data row0 col0\" >0.430000</td>\n",
       "    </tr>\n",
       "    <tr>\n",
       "      <th id=\"T_26533_level0_row1\" class=\"row_heading level0 row1\" >(1.5, 2.5]</th>\n",
       "      <td id=\"T_26533_row1_col0\" class=\"data row1 col0\" >-0.080000</td>\n",
       "    </tr>\n",
       "    <tr>\n",
       "      <th id=\"T_26533_level0_row2\" class=\"row_heading level0 row2\" >(2.5, inf)</th>\n",
       "      <td id=\"T_26533_row2_col0\" class=\"data row2 col0\" >-1.090000</td>\n",
       "    </tr>\n",
       "  </tbody>\n",
       "</table>\n"
      ],
      "text/plain": [
       "<pandas.io.formats.style.Styler at 0x7f88b8514b80>"
      ]
     },
     "metadata": {},
     "output_type": "display_data"
    },
    {
     "data": {
      "text/html": [
       "<style type=\"text/css\">\n",
       "#T_0e28e_row0_col0 {\n",
       "  background-color: #d59d9a;\n",
       "  color: #f1f1f1;\n",
       "}\n",
       "#T_0e28e_row1_col0 {\n",
       "  background-color: #a8b7cf;\n",
       "  color: #000000;\n",
       "}\n",
       "</style>\n",
       "<table id=\"T_0e28e_\">\n",
       "  <thead>\n",
       "    <tr>\n",
       "      <th class=\"blank level0\" >&nbsp;</th>\n",
       "      <th class=\"col_heading level0 col0\" >WOE values</th>\n",
       "    </tr>\n",
       "    <tr>\n",
       "      <th class=\"index_name level0\" >Cabin__is_null</th>\n",
       "      <th class=\"blank col0\" >&nbsp;</th>\n",
       "    </tr>\n",
       "  </thead>\n",
       "  <tbody>\n",
       "    <tr>\n",
       "      <th id=\"T_0e28e_level0_row0\" class=\"row_heading level0 row0\" >(-inf, 0.5]</th>\n",
       "      <td id=\"T_0e28e_row0_col0\" class=\"data row0 col0\" >0.620000</td>\n",
       "    </tr>\n",
       "    <tr>\n",
       "      <th id=\"T_0e28e_level0_row1\" class=\"row_heading level0 row1\" >(0.5, inf)</th>\n",
       "      <td id=\"T_0e28e_row1_col0\" class=\"data row1 col0\" >-0.810000</td>\n",
       "    </tr>\n",
       "  </tbody>\n",
       "</table>\n"
      ],
      "text/plain": [
       "<pandas.io.formats.style.Styler at 0x7f88b8514b80>"
      ]
     },
     "metadata": {},
     "output_type": "display_data"
    }
   ],
   "source": [
    "steps = [\n",
    "    ('StringLength', StringLength(columns=['Ticket'])),\n",
    "    ('SplitExtractName', SplitExtract(['Name'], [', '], [1], ['Dummy'])),\n",
    "    ('SplitExtractTitle', SplitExtract(['Dummy'], ['.'], [0], ['Title'])),\n",
    "    ('IsNull', IsNull(columns=['Age', 'Cabin'])),\n",
    "    ('DropColumns', DropColumns(['Name',  'Dummy', 'Cabin', 'Ticket'])),\n",
    "    ('ObjectImputer', ObjectImputer(strategy='constant', value='MISSING')),\n",
    "    ('BinSingleTargetClassCategories', BinSingleTargetClassCategories()),\n",
    "    ('NumericsImputer', NumericsImputer(strategy='mean')),\n",
    "    ('ElementaryArithmetics', ElementaryArithmetics(\n",
    "        operator='+',\n",
    "        columns_a=['SibSp'], \n",
    "        columns_b=['Parch'], \n",
    "        column_names=['FamilySize'])),\n",
    "    ('TreeBinning', TreeBinning(\n",
    "        tree=DecisionTreeClassifier(max_depth=3, min_samples_leaf=120),\n",
    "        inplace=True)),\n",
    "    ('Encoder', WOEEncoder(add_missing_categories=False)),\n",
    "]\n",
    "pipe = Pipeline(steps=steps)\n",
    "_ = pipe.fit(X_train.copy(), y_train)\n",
    "pipe.display_encoder_mapping_nb(cmap=cmap)"
   ]
  },
  {
   "cell_type": "markdown",
   "metadata": {},
   "source": [
    "### adding polynomial object features"
   ]
  },
  {
   "cell_type": "code",
   "execution_count": 11,
   "metadata": {},
   "outputs": [
    {
     "data": {
      "text/html": [
       "<style type=\"text/css\">\n",
       "#T_69d4d_row0_col0 {\n",
       "  background-color: #4e7dbc;\n",
       "  color: #f1f1f1;\n",
       "}\n",
       "#T_69d4d_row1_col0 {\n",
       "  background-color: #678bbe;\n",
       "  color: #f1f1f1;\n",
       "}\n",
       "#T_69d4d_row2_col0 {\n",
       "  background-color: #bbc5d7;\n",
       "  color: #000000;\n",
       "}\n",
       "#T_69d4d_row3_col0 {\n",
       "  background-color: #eeedf0;\n",
       "  color: #000000;\n",
       "}\n",
       "#T_69d4d_row4_col0 {\n",
       "  background-color: #f5f2f4;\n",
       "  color: #000000;\n",
       "}\n",
       "#T_69d4d_row5_col0 {\n",
       "  background-color: #a9373b;\n",
       "  color: #f1f1f1;\n",
       "}\n",
       "</style>\n",
       "<table id=\"T_69d4d_\">\n",
       "  <thead>\n",
       "    <tr>\n",
       "      <th class=\"blank level0\" >&nbsp;</th>\n",
       "      <th class=\"col_heading level0 col0\" >WOE values</th>\n",
       "    </tr>\n",
       "    <tr>\n",
       "      <th class=\"index_name level0\" >Pclass__Sex</th>\n",
       "      <th class=\"blank col0\" >&nbsp;</th>\n",
       "    </tr>\n",
       "  </thead>\n",
       "  <tbody>\n",
       "    <tr>\n",
       "      <th id=\"T_69d4d_level0_row0\" class=\"row_heading level0 row0\" >3rdClassMan</th>\n",
       "      <td id=\"T_69d4d_row0_col0\" class=\"data row0 col0\" >-1.860000</td>\n",
       "    </tr>\n",
       "    <tr>\n",
       "      <th id=\"T_69d4d_level0_row1\" class=\"row_heading level0 row1\" >2ndClassMan</th>\n",
       "      <td id=\"T_69d4d_row1_col0\" class=\"data row1 col0\" >-1.590000</td>\n",
       "    </tr>\n",
       "    <tr>\n",
       "      <th id=\"T_69d4d_level0_row2\" class=\"row_heading level0 row2\" >1stClassMan</th>\n",
       "      <td id=\"T_69d4d_row2_col0\" class=\"data row2 col0\" >-0.600000</td>\n",
       "    </tr>\n",
       "    <tr>\n",
       "      <th id=\"T_69d4d_level0_row3\" class=\"row_heading level0 row3\" >MISSING</th>\n",
       "      <td id=\"T_69d4d_row3_col0\" class=\"data row3 col0\" >0.000000</td>\n",
       "    </tr>\n",
       "    <tr>\n",
       "      <th id=\"T_69d4d_level0_row4\" class=\"row_heading level0 row4\" >3rdClassWoman</th>\n",
       "      <td id=\"T_69d4d_row4_col0\" class=\"data row4 col0\" >0.090000</td>\n",
       "    </tr>\n",
       "    <tr>\n",
       "      <th id=\"T_69d4d_level0_row5\" class=\"row_heading level0 row5\" >OTHERS</th>\n",
       "      <td id=\"T_69d4d_row5_col0\" class=\"data row5 col0\" >2.680000</td>\n",
       "    </tr>\n",
       "  </tbody>\n",
       "</table>\n"
      ],
      "text/plain": [
       "<pandas.io.formats.style.Styler at 0x7f8920688e80>"
      ]
     },
     "metadata": {},
     "output_type": "display_data"
    },
    {
     "data": {
      "text/html": [
       "<style type=\"text/css\">\n",
       "#T_6055f_row0_col0 {\n",
       "  background-color: #316fbc;\n",
       "  color: #f1f1f1;\n",
       "}\n",
       "#T_6055f_row1_col0 {\n",
       "  background-color: #7e9ac2;\n",
       "  color: #f1f1f1;\n",
       "}\n",
       "#T_6055f_row2_col0 {\n",
       "  background-color: #8da4c6;\n",
       "  color: #f1f1f1;\n",
       "}\n",
       "#T_6055f_row3_col0 {\n",
       "  background-color: #eeedf0;\n",
       "  color: #000000;\n",
       "}\n",
       "#T_6055f_row4_col0 {\n",
       "  background-color: #f6e8e7;\n",
       "  color: #000000;\n",
       "}\n",
       "#T_6055f_row5_col0 {\n",
       "  background-color: #e5c3c1;\n",
       "  color: #000000;\n",
       "}\n",
       "#T_6055f_row6_col0 {\n",
       "  background-color: #c97f7d;\n",
       "  color: #f1f1f1;\n",
       "}\n",
       "</style>\n",
       "<table id=\"T_6055f_\">\n",
       "  <thead>\n",
       "    <tr>\n",
       "      <th class=\"blank level0\" >&nbsp;</th>\n",
       "      <th class=\"col_heading level0 col0\" >WOE values</th>\n",
       "    </tr>\n",
       "    <tr>\n",
       "      <th class=\"index_name level0\" >Sex__Age</th>\n",
       "      <th class=\"blank col0\" >&nbsp;</th>\n",
       "    </tr>\n",
       "  </thead>\n",
       "  <tbody>\n",
       "    <tr>\n",
       "      <th id=\"T_6055f_level0_row0\" class=\"row_heading level0 row0\" >ManSmallFamily</th>\n",
       "      <td id=\"T_6055f_row0_col0\" class=\"data row0 col0\" >-2.100000</td>\n",
       "    </tr>\n",
       "    <tr>\n",
       "      <th id=\"T_6055f_level0_row1\" class=\"row_heading level0 row1\" >ManLargeFamily</th>\n",
       "      <td id=\"T_6055f_row1_col0\" class=\"data row1 col0\" >-1.330000</td>\n",
       "    </tr>\n",
       "    <tr>\n",
       "      <th id=\"T_6055f_level0_row2\" class=\"row_heading level0 row2\" >ManNoFamily</th>\n",
       "      <td id=\"T_6055f_row2_col0\" class=\"data row2 col0\" >-1.160000</td>\n",
       "    </tr>\n",
       "    <tr>\n",
       "      <th id=\"T_6055f_level0_row3\" class=\"row_heading level0 row3\" >MISSING</th>\n",
       "      <td id=\"T_6055f_row3_col0\" class=\"data row3 col0\" >0.000000</td>\n",
       "    </tr>\n",
       "    <tr>\n",
       "      <th id=\"T_6055f_level0_row4\" class=\"row_heading level0 row4\" >OTHERS</th>\n",
       "      <td id=\"T_6055f_row4_col0\" class=\"data row4 col0\" >0.470000</td>\n",
       "    </tr>\n",
       "    <tr>\n",
       "      <th id=\"T_6055f_level0_row5\" class=\"row_heading level0 row5\" >WomanNoFamily</th>\n",
       "      <td id=\"T_6055f_row5_col0\" class=\"data row5 col0\" >0.910000</td>\n",
       "    </tr>\n",
       "    <tr>\n",
       "      <th id=\"T_6055f_level0_row6\" class=\"row_heading level0 row6\" >WomanLargeFamily</th>\n",
       "      <td id=\"T_6055f_row6_col0\" class=\"data row6 col0\" >1.770000</td>\n",
       "    </tr>\n",
       "  </tbody>\n",
       "</table>\n"
      ],
      "text/plain": [
       "<pandas.io.formats.style.Styler at 0x7f89206c7dc0>"
      ]
     },
     "metadata": {},
     "output_type": "display_data"
    },
    {
     "data": {
      "text/html": [
       "<style type=\"text/css\">\n",
       "#T_5fa9c_row0_col0 {\n",
       "  background-color: #2369bd;\n",
       "  color: #f1f1f1;\n",
       "}\n",
       "#T_5fa9c_row1_col0 {\n",
       "  background-color: #3671bc;\n",
       "  color: #f1f1f1;\n",
       "}\n",
       "#T_5fa9c_row2_col0 {\n",
       "  background-color: #b2bed3;\n",
       "  color: #000000;\n",
       "}\n",
       "#T_5fa9c_row3_col0 {\n",
       "  background-color: #eeedf0;\n",
       "  color: #000000;\n",
       "}\n",
       "#T_5fa9c_row4_col0 {\n",
       "  background-color: #f3f1f3;\n",
       "  color: #000000;\n",
       "}\n",
       "#T_5fa9c_row5_col0 {\n",
       "  background-color: #d9a5a2;\n",
       "  color: #000000;\n",
       "}\n",
       "</style>\n",
       "<table id=\"T_5fa9c_\">\n",
       "  <thead>\n",
       "    <tr>\n",
       "      <th class=\"blank level0\" >&nbsp;</th>\n",
       "      <th class=\"col_heading level0 col0\" >WOE values</th>\n",
       "    </tr>\n",
       "    <tr>\n",
       "      <th class=\"index_name level0\" >Pclass__Title</th>\n",
       "      <th class=\"blank col0\" >&nbsp;</th>\n",
       "    </tr>\n",
       "  </thead>\n",
       "  <tbody>\n",
       "    <tr>\n",
       "      <th id=\"T_5fa9c_level0_row0\" class=\"row_heading level0 row0\" >2ndClassCapt|Don|Jonkheer|Rev|Mr</th>\n",
       "      <td id=\"T_5fa9c_row0_col0\" class=\"data row0 col0\" >-2.210000</td>\n",
       "    </tr>\n",
       "    <tr>\n",
       "      <th id=\"T_5fa9c_level0_row1\" class=\"row_heading level0 row1\" >3rdClassCapt|Don|Jonkheer|Rev|Mr</th>\n",
       "      <td id=\"T_5fa9c_row1_col0\" class=\"data row1 col0\" >-2.080000</td>\n",
       "    </tr>\n",
       "    <tr>\n",
       "      <th id=\"T_5fa9c_level0_row2\" class=\"row_heading level0 row2\" >1stClassCapt|Don|Jonkheer|Rev|Mr</th>\n",
       "      <td id=\"T_5fa9c_row2_col0\" class=\"data row2 col0\" >-0.720000</td>\n",
       "    </tr>\n",
       "    <tr>\n",
       "      <th id=\"T_5fa9c_level0_row3\" class=\"row_heading level0 row3\" >MISSING</th>\n",
       "      <td id=\"T_5fa9c_row3_col0\" class=\"data row3 col0\" >0.000000</td>\n",
       "    </tr>\n",
       "    <tr>\n",
       "      <th id=\"T_5fa9c_level0_row4\" class=\"row_heading level0 row4\" >3rdClassMiss</th>\n",
       "      <td id=\"T_5fa9c_row4_col0\" class=\"data row4 col0\" >0.080000</td>\n",
       "    </tr>\n",
       "    <tr>\n",
       "      <th id=\"T_5fa9c_level0_row5\" class=\"row_heading level0 row5\" >OTHERS</th>\n",
       "      <td id=\"T_5fa9c_row5_col0\" class=\"data row5 col0\" >1.300000</td>\n",
       "    </tr>\n",
       "  </tbody>\n",
       "</table>\n"
      ],
      "text/plain": [
       "<pandas.io.formats.style.Styler at 0x7f8920688e80>"
      ]
     },
     "metadata": {},
     "output_type": "display_data"
    },
    {
     "data": {
      "text/html": [
       "<style type=\"text/css\">\n",
       "#T_306c0_row0_col0 {\n",
       "  background-color: #5c85bd;\n",
       "  color: #f1f1f1;\n",
       "}\n",
       "#T_306c0_row1_col0 {\n",
       "  background-color: #eeedf0;\n",
       "  color: #000000;\n",
       "}\n",
       "#T_306c0_row2_col0 {\n",
       "  background-color: #f2f0f2;\n",
       "  color: #000000;\n",
       "}\n",
       "#T_306c0_row3_col0 {\n",
       "  background-color: #eacfcd;\n",
       "  color: #000000;\n",
       "}\n",
       "#T_306c0_row4_col0 {\n",
       "  background-color: #d49896;\n",
       "  color: #f1f1f1;\n",
       "}\n",
       "</style>\n",
       "<table id=\"T_306c0_\">\n",
       "  <thead>\n",
       "    <tr>\n",
       "      <th class=\"blank level0\" >&nbsp;</th>\n",
       "      <th class=\"col_heading level0 col0\" >WOE values</th>\n",
       "    </tr>\n",
       "    <tr>\n",
       "      <th class=\"index_name level0\" >Title</th>\n",
       "      <th class=\"blank col0\" >&nbsp;</th>\n",
       "    </tr>\n",
       "  </thead>\n",
       "  <tbody>\n",
       "    <tr>\n",
       "      <th id=\"T_306c0_level0_row0\" class=\"row_heading level0 row0\" >Capt|Don|Jonkheer|Rev|Mr</th>\n",
       "      <td id=\"T_306c0_row0_col0\" class=\"data row0 col0\" >-1.700000</td>\n",
       "    </tr>\n",
       "    <tr>\n",
       "      <th id=\"T_306c0_level0_row1\" class=\"row_heading level0 row1\" >MISSING</th>\n",
       "      <td id=\"T_306c0_row1_col0\" class=\"data row1 col0\" >0.000000</td>\n",
       "    </tr>\n",
       "    <tr>\n",
       "      <th id=\"T_306c0_level0_row2\" class=\"row_heading level0 row2\" >OTHERS</th>\n",
       "      <td id=\"T_306c0_row2_col0\" class=\"data row2 col0\" >0.050000</td>\n",
       "    </tr>\n",
       "    <tr>\n",
       "      <th id=\"T_306c0_level0_row3\" class=\"row_heading level0 row3\" >Miss</th>\n",
       "      <td id=\"T_306c0_row3_col0\" class=\"data row3 col0\" >0.780000</td>\n",
       "    </tr>\n",
       "    <tr>\n",
       "      <th id=\"T_306c0_level0_row4\" class=\"row_heading level0 row4\" >Mrs|Lady|Mlle|Sir|the Countess</th>\n",
       "      <td id=\"T_306c0_row4_col0\" class=\"data row4 col0\" >1.450000</td>\n",
       "    </tr>\n",
       "  </tbody>\n",
       "</table>\n"
      ],
      "text/plain": [
       "<pandas.io.formats.style.Styler at 0x7f8920688e80>"
      ]
     },
     "metadata": {},
     "output_type": "display_data"
    },
    {
     "data": {
      "text/html": [
       "<style type=\"text/css\">\n",
       "#T_8ef0c_row0_col0 {\n",
       "  background-color: #3470bc;\n",
       "  color: #f1f1f1;\n",
       "}\n",
       "#T_8ef0c_row1_col0 {\n",
       "  background-color: #7997c1;\n",
       "  color: #f1f1f1;\n",
       "}\n",
       "#T_8ef0c_row2_col0 {\n",
       "  background-color: #859ec4;\n",
       "  color: #f1f1f1;\n",
       "}\n",
       "#T_8ef0c_row3_col0 {\n",
       "  background-color: #bac4d6;\n",
       "  color: #000000;\n",
       "}\n",
       "#T_8ef0c_row4_col0 {\n",
       "  background-color: #eeedf0;\n",
       "  color: #000000;\n",
       "}\n",
       "#T_8ef0c_row5_col0 {\n",
       "  background-color: #e1b9b6;\n",
       "  color: #000000;\n",
       "}\n",
       "</style>\n",
       "<table id=\"T_8ef0c_\">\n",
       "  <thead>\n",
       "    <tr>\n",
       "      <th class=\"blank level0\" >&nbsp;</th>\n",
       "      <th class=\"col_heading level0 col0\" >WOE values</th>\n",
       "    </tr>\n",
       "    <tr>\n",
       "      <th class=\"index_name level0\" >Sex__Fare</th>\n",
       "      <th class=\"blank col0\" >&nbsp;</th>\n",
       "    </tr>\n",
       "  </thead>\n",
       "  <tbody>\n",
       "    <tr>\n",
       "      <th id=\"T_8ef0c_level0_row0\" class=\"row_heading level0 row0\" >ManEconomicFare</th>\n",
       "      <td id=\"T_8ef0c_row0_col0\" class=\"data row0 col0\" >-2.090000</td>\n",
       "    </tr>\n",
       "    <tr>\n",
       "      <th id=\"T_8ef0c_level0_row1\" class=\"row_heading level0 row1\" >ManEconomicPlusFare</th>\n",
       "      <td id=\"T_8ef0c_row1_col0\" class=\"data row1 col0\" >-1.380000</td>\n",
       "    </tr>\n",
       "    <tr>\n",
       "      <th id=\"T_8ef0c_level0_row2\" class=\"row_heading level0 row2\" >ManBussinessFare</th>\n",
       "      <td id=\"T_8ef0c_row2_col0\" class=\"data row2 col0\" >-1.250000</td>\n",
       "    </tr>\n",
       "    <tr>\n",
       "      <th id=\"T_8ef0c_level0_row3\" class=\"row_heading level0 row3\" >ManFirstClassFare</th>\n",
       "      <td id=\"T_8ef0c_row3_col0\" class=\"data row3 col0\" >-0.620000</td>\n",
       "    </tr>\n",
       "    <tr>\n",
       "      <th id=\"T_8ef0c_level0_row4\" class=\"row_heading level0 row4\" >MISSING</th>\n",
       "      <td id=\"T_8ef0c_row4_col0\" class=\"data row4 col0\" >0.000000</td>\n",
       "    </tr>\n",
       "    <tr>\n",
       "      <th id=\"T_8ef0c_level0_row5\" class=\"row_heading level0 row5\" >OTHERS</th>\n",
       "      <td id=\"T_8ef0c_row5_col0\" class=\"data row5 col0\" >1.050000</td>\n",
       "    </tr>\n",
       "  </tbody>\n",
       "</table>\n"
      ],
      "text/plain": [
       "<pandas.io.formats.style.Styler at 0x7f89206b25b0>"
      ]
     },
     "metadata": {},
     "output_type": "display_data"
    }
   ],
   "source": [
    "steps = [\n",
    "    ('StringLength', StringLength(columns=['Ticket'])),\n",
    "    ('SplitExtractName', SplitExtract(['Name'], [', '], [1], ['Dummy'])),\n",
    "    ('SplitExtractTitle', SplitExtract(['Dummy'], ['.'], [0], ['Title'])),\n",
    "    ('IsNull', IsNull(columns=['Age', 'Cabin'])),\n",
    "    ('DropColumns', DropColumns(['Name',  'Dummy', 'Cabin', 'Ticket'])),\n",
    "    ('ObjectImputer', ObjectImputer(strategy='constant', value='MISSING')),\n",
    "    ('BinSingleTargetClassCategories', BinSingleTargetClassCategories()),\n",
    "    ('NumericsImputer', NumericsImputer(strategy='mean')),\n",
    "    ('ElementaryArithmetics', ElementaryArithmetics(\n",
    "        operator='+',\n",
    "        columns_a=['SibSp'], \n",
    "        columns_b=['Parch'], \n",
    "        column_names=['FamilySize'])),\n",
    "    ('TreeBinning', TreeBinning(\n",
    "        tree=DecisionTreeClassifier(max_depth=3, min_samples_leaf=120),\n",
    "        inplace=True)),\n",
    "    ('Replace', Replace(\n",
    "        to_replace_dict={\n",
    "            'Fare': {\n",
    "                '_0': 'EconomicFare', \n",
    "                '_1': 'EconomicPlusFare', \n",
    "                '_2': 'BussinessFare', \n",
    "                '_3': 'FirstClassFare',},\n",
    "            'Pclass': {'_0': '1stClass', '_1': '2ndClass', '_2': '3rdClass'},\n",
    "            'Sex': {'female': 'Woman', 'male': 'Man'},\n",
    "            'FamilySize': {'_0': 'Teenager', '_1': 'Adult', '_2': 'Senior'},\n",
    "            'Age': {'_0': 'NoFamily', '_1': 'SmallFamily', '_2': 'LargeFamily'}\n",
    "        }\n",
    "    )),\n",
    "    ('PolynomialObjectFeatures', PolynomialObjectFeatures(\n",
    "        columns=['Pclass', 'Sex', 'Age', 'Fare', 'Embarked', 'Title', 'FamilySize'],\n",
    "        degree=2)),\n",
    "    ('CleanCategories', BinRareCategories(min_ratio=0.1)),\n",
    "    ('Encoder', WOEEncoder()),\n",
    "]\n",
    "pipe = Pipeline(steps=steps)\n",
    "_ = pipe.fit(X_train.copy(), y_train)\n",
    "pipe.display_encoder_mapping_nb(cmap=cmap)"
   ]
  },
  {
   "cell_type": "markdown",
   "metadata": {},
   "source": [
    "## offline pipeline - feature selection"
   ]
  },
  {
   "cell_type": "code",
   "execution_count": 12,
   "metadata": {},
   "outputs": [],
   "source": [
    "k = 12\n",
    "model = XGBClassifier(\n",
    "    random_state=0, \n",
    "    eval_metric='logloss', \n",
    ")\n",
    "offline_steps = [\n",
    "    ('StringLength', StringLength(columns=['Ticket'])),\n",
    "    ('SplitExtractName', SplitExtract(['Name'], [', '], [1], ['Dummy'])),\n",
    "    ('SplitExtractTitle', SplitExtract(['Dummy'], ['.'], [0], ['Title'])),\n",
    "    ('IsNull', IsNull(columns=['Age', 'Cabin'])),\n",
    "    ('DropColumns', DropColumns(['Name',  'Dummy', 'Cabin', 'Ticket'])),\n",
    "    ('ObjectImputer', ObjectImputer(strategy='constant', value='MISSING')),\n",
    "    ('BinSingleTargetClassCategories', BinSingleTargetClassCategories()),\n",
    "    ('NumericsImputer', NumericsImputer(strategy='mean')),\n",
    "    ('ElementaryArithmetics', ElementaryArithmetics(\n",
    "        operator='+',\n",
    "        columns_a=['SibSp'], \n",
    "        columns_b=['Parch'], \n",
    "        column_names=['FamilySize'])),\n",
    "    ('TreeBinning', TreeBinning(\n",
    "        tree=DecisionTreeClassifier(max_depth=3, min_samples_leaf=120),\n",
    "        inplace=True)),\n",
    "    ('CleanCategories', BinRareCategories(min_ratio=0.)),\n",
    "    ('InformationValue', InformationValue(k=k)),\n",
    "]\n",
    "offline_pipe = Pipeline(steps=offline_steps)\n",
    "X_train_prepro = offline_pipe.fit_transform(X_train.copy(), y_train)\n",
    "features = list(X_train_prepro.columns)"
   ]
  },
  {
   "cell_type": "code",
   "execution_count": 13,
   "metadata": {},
   "outputs": [
    {
     "data": {
      "image/png": "[encoded data removed]",
      "text/plain": [
       "<Figure size 216x345.6 with 1 Axes>"
      ]
     },
     "metadata": {
      "needs_background": "light"
     },
     "output_type": "display_data"
    }
   ],
   "source": [
    "offline_pipe.steps[-1][1].feature_importances_.iloc[::-1].plot(\n",
    "    kind='barh', \n",
    "    figsize=(3, 3*1.6), \n",
    "    title='Feature Importance',\n",
    ");"
   ]
  },
  {
   "cell_type": "markdown",
   "metadata": {},
   "source": [
    "All the features will be used."
   ]
  },
  {
   "cell_type": "markdown",
   "metadata": {},
   "source": [
    "## pipeline optimization"
   ]
  },
  {
   "cell_type": "code",
   "execution_count": 14,
   "metadata": {},
   "outputs": [
    {
     "name": "stdout",
     "output_type": "stream",
     "text": [
      "Fitting 5 folds for each of 30 candidates, totalling 150 fits\n"
     ]
    }
   ],
   "source": [
    "prod_steps = [\n",
    "    ('StringLength', StringLength(columns=['Ticket'])),\n",
    "    ('SplitExtractName', SplitExtract(['Name'], [', '], [1], ['Dummy'])),\n",
    "    ('SplitExtractTitle', SplitExtract(['Dummy'], ['.'], [0], ['Title'])),\n",
    "    ('IsNull', IsNull(columns=['Age', 'Cabin'])),\n",
    "    ('DropColumns', DropColumns(['Name',  'Dummy', 'Cabin', 'Ticket'])),\n",
    "    ('ObjectImputer', ObjectImputer(strategy='constant', value='MISSING')),\n",
    "    ('BinSingleTargetClassCategories', BinSingleTargetClassCategories()),\n",
    "    ('NumericsImputer', NumericsImputer(strategy='mean', value=-1)),\n",
    "    ('ElementaryArithmetics', ElementaryArithmetics(\n",
    "        operator='+',\n",
    "        columns_a=['SibSp'], \n",
    "        columns_b=['Parch'], \n",
    "        column_names=['FamilySize'])),\n",
    "    ('TreeBinning', TreeBinning(\n",
    "        tree=DecisionTreeClassifier(max_depth=2, min_samples_leaf=120),\n",
    "        inplace=True)),\n",
    "    ('PolynomialObjectFeatures', PolynomialObjectFeatures(\n",
    "        columns=['Pclass', 'Sex', 'Age', 'Fare', 'Embarked', 'Title', 'FamilySize'],\n",
    "        degree=2)),\n",
    "    ('CleanCategories', BinRareCategories(min_ratio=0.1)),\n",
    "    ('Encoder', WOEEncoder(add_missing_categories=True)),\n",
    "    ('ESTIMATOR', XGBClassifier(random_state=0, eval_metric='logloss', use_label_encoder=False))\n",
    "]\n",
    "\n",
    "\n",
    "param_distributions = {\n",
    "    \"NumericsImputer__strategy\": [\"mean\", \"most_frequent\", \"constant\"],\n",
    "    \"TreeBinning__tree\": [\n",
    "        DecisionTreeClassifier(\n",
    "            max_depth=2, \n",
    "            min_samples_leaf=25, \n",
    "            random_state=0),\n",
    "        DecisionTreeClassifier(\n",
    "            max_depth=2, \n",
    "            min_samples_leaf=50, \n",
    "            random_state=0),\n",
    "        DecisionTreeClassifier(\n",
    "            max_depth=2, \n",
    "            min_samples_leaf=100, \n",
    "            random_state=0),\n",
    "        DecisionTreeClassifier(\n",
    "            max_depth=2, \n",
    "            min_samples_leaf=150, \n",
    "            random_state=0),\n",
    "    ],\n",
    "    \"CleanCategories__min_ratio\": [0, 0.1, 0.2],\n",
    "    'ESTIMATOR__max_depth': [3, 4, 5],\n",
    "    'ESTIMATOR__subsample': [0.4, 0.6, .8],\n",
    "    'ESTIMATOR__colsample_bytree': [0.4, 0.6, .8],\n",
    "    'ESTIMATOR__colsample_bylevel': [0.4, 0.6, .8],\n",
    "    'ESTIMATOR__min_child_weight': [10, 20, 30],\n",
    "}\n",
    "def f1_score(y_true, y_pred):\n",
    "    p = y_true[y_pred == 1].mean()\n",
    "    r = y_pred[y_true == 1].mean()\n",
    "    if (p == 0) | (r == 0):\n",
    "        return 0\n",
    "    return 2 * p * r / (p + r)\n",
    "f1_scoring = make_scorer(f1_score)\n",
    "\n",
    "from sklearn.metrics import log_loss\n",
    "\n",
    "cv = StratifiedKFold(n_splits=5, random_state=0, shuffle=True)\n",
    "pipe = Pipeline(steps=prod_steps, verbose=False)\n",
    "search = RandomizedSearchCV(\n",
    "    pipe,\n",
    "    param_distributions=param_distributions, \n",
    "    n_iter=30,\n",
    "    cv=cv,\n",
    "    scoring=f1_scoring,\n",
    "    n_jobs=-1,\n",
    "    verbose=True)\n",
    "_ = search.fit(X_train.copy(), y_train)"
   ]
  },
  {
   "cell_type": "markdown",
   "metadata": {},
   "source": [
    "## model evaluation"
   ]
  },
  {
   "cell_type": "code",
   "execution_count": 15,
   "metadata": {},
   "outputs": [
    {
     "name": "stdout",
     "output_type": "stream",
     "text": [
      "MAX F1-score test set: 0.78\n"
     ]
    }
   ],
   "source": [
    "thresholds = np.linspace(0, 1, 25)[1:-1]\n",
    "y_train_pred_proba = search.best_estimator_.predict_proba(X_train.copy())[:, 1]\n",
    "y_test_pred_proba = search.best_estimator_.predict_proba(X_test.copy())[:, 1]\n",
    "fscores_train = [f1_score(y_train, y_train_pred_proba > t) for t in thresholds]\n",
    "fscores_test = [f1_score(y_test, y_test_pred_proba > t) for t in thresholds]\n",
    "print(f'MAX F1-score test set: {max(fscores_test):.2f}')"
   ]
  },
  {
   "cell_type": "code",
   "execution_count": 16,
   "metadata": {
    "scrolled": true
   },
   "outputs": [
    {
     "data": {
      "image/png": "[encoded data removed]",
      "text/plain": [
       "<Figure size 460.8x288 with 1 Axes>"
      ]
     },
     "metadata": {
      "needs_background": "light"
     },
     "output_type": "display_data"
    }
   ],
   "source": [
    "fig, ax = plt.subplots(figsize=[4 *1.6, 4]);\n",
    "_ = plt.plot(thresholds, fscores_train, '--o', label='train set');\n",
    "_ = plt.plot(thresholds, fscores_test, '--o', label='test set');\n",
    "_ = plt.title('f-score vs threshold');\n",
    "_ = plt.xlabel('thresholds');\n",
    "_ = plt.ylabel('f-score');\n",
    "_ = plt.legend()"
   ]
  },
  {
   "cell_type": "markdown",
   "metadata": {},
   "source": [
    "## production pipeline & model"
   ]
  },
  {
   "cell_type": "code",
   "execution_count": 17,
   "metadata": {},
   "outputs": [],
   "source": [
    "prod_pipe = copy.deepcopy(search.best_estimator_)\n",
    "_ = prod_pipe.steps.pop(-1)\n",
    "model_pd = copy.deepcopy(search.best_estimator_.steps[-1][1])"
   ]
  },
  {
   "cell_type": "code",
   "execution_count": 18,
   "metadata": {},
   "outputs": [
    {
     "name": "stdout",
     "output_type": "stream",
     "text": [
      "[15:06:41] /Users/travis/build/dmlc/treelite/src/compiler/ast_native.cc:703: Using ASTNativeCompiler\n",
      "[15:06:41] /Users/travis/build/dmlc/treelite/src/compiler/ast/split.cc:29: Parallel compilation enabled; member trees will be divided into 4 translation units.\n",
      "[15:06:41] /Users/travis/build/dmlc/treelite/src/c_api/c_api.cc:92: Code generation finished. Writing code to files...\n",
      "[15:06:41] /Users/travis/build/dmlc/treelite/src/c_api/c_api.cc:97: Writing file recipe.json...\n",
      "[15:06:41] /Users/travis/build/dmlc/treelite/src/c_api/c_api.cc:97: Writing file tu3.c...\n",
      "[15:06:41] /Users/travis/build/dmlc/treelite/src/c_api/c_api.cc:97: Writing file tu2.c...\n",
      "[15:06:41] /Users/travis/build/dmlc/treelite/src/c_api/c_api.cc:97: Writing file tu1.c...\n",
      "[15:06:41] /Users/travis/build/dmlc/treelite/src/c_api/c_api.cc:97: Writing file tu0.c...\n",
      "[15:06:41] /Users/travis/build/dmlc/treelite/src/c_api/c_api.cc:97: Writing file header.h...\n",
      "[15:06:41] /Users/travis/build/dmlc/treelite/src/c_api/c_api.cc:97: Writing file main.c...\n",
      "[15:06:41] /Users/cpoli/gators38/lib/python3.8/site-packages/treelite/contrib/util.py:105: Compiling sources files in directory ./models/tmpooda6zhm into object files (*.o)...\n",
      "[15:06:41] /Users/cpoli/gators38/lib/python3.8/site-packages/treelite/contrib/util.py:135: Generating dynamic shared library ./models/tmpooda6zhm/predictor.dylib...\n",
      "[15:06:42] /Users/cpoli/gators38/lib/python3.8/site-packages/treelite/contrib/__init__.py:282: Generated shared library in 0.67 seconds\n"
     ]
    }
   ],
   "source": [
    "X_train_prepro_np = prod_pipe.transform_numpy(X_train.copy().to_numpy())\n",
    "y_train_np = y_train.to_numpy()\n",
    "\n",
    "xgb_booster = XGBBoosterBuilder.train(\n",
    "    model=model_pd, \n",
    "    X_train=X_train_prepro_np, \n",
    "    y_train=y_train.to_numpy(),\n",
    ")\n",
    "\n",
    "treelite_model = treelite.Model.from_xgboost(xgb_booster)\n",
    "treelite_model.export_lib(\n",
    "    toolchain='gcc', \n",
    "    libpath='./models/treelite_xgb_titanic.so', \n",
    "    params={'parallel_comp': 4},\n",
    "    verbose=True\n",
    ")\n",
    "model_prod = treelite_runtime.Predictor(\n",
    "    './models/treelite_xgb_titanic.so', verbose=False)"
   ]
  },
  {
   "cell_type": "markdown",
   "metadata": {},
   "source": [
    "### check if Pandas & Treelite predictions match"
   ]
  },
  {
   "cell_type": "code",
   "execution_count": 19,
   "metadata": {},
   "outputs": [],
   "source": [
    "X_test_np = X_test.to_numpy()\n",
    "y_pred_pd = model_pd.predict_proba(\n",
    "    prod_pipe.transform(X_test.copy()))[:, 1]\n",
    "y_pred_tl = model_prod.predict(\n",
    "    treelite_runtime.DMatrix(\n",
    "        prod_pipe.transform_numpy(\n",
    "            X_test_np.copy()\n",
    "        )\n",
    "    )\n",
    ")\n",
    "assert np.allclose(y_pred_pd, y_pred_tl)"
   ]
  },
  {
   "cell_type": "markdown",
   "metadata": {},
   "source": [
    "## per-sample bechmarking"
   ]
  },
  {
   "cell_type": "markdown",
   "metadata": {},
   "source": [
    "### pipeline only"
   ]
  },
  {
   "cell_type": "code",
   "execution_count": 20,
   "metadata": {},
   "outputs": [
    {
     "name": "stdout",
     "output_type": "stream",
     "text": [
      "137 ms ± 13.2 ms per loop (mean ± std. dev. of 7 runs, 10 loops each)\n",
      "148 µs ± 9.61 µs per loop (mean ± std. dev. of 7 runs, 10000 loops each)\n"
     ]
    }
   ],
   "source": [
    "x = X_test.iloc[[0]]\n",
    "x_np = x.to_numpy()\n",
    "stats_pd = %timeit -o prod_pipe.transform(x)\n",
    "stats_np = %timeit -o prod_pipe.transform_numpy(x_np.copy())"
   ]
  },
  {
   "cell_type": "code",
   "execution_count": 21,
   "metadata": {},
   "outputs": [
    {
     "data": {
      "text/plain": [
       "'Speed-up Pandas VS Numpy x926'"
      ]
     },
     "execution_count": 21,
     "metadata": {},
     "output_type": "execute_result"
    }
   ],
   "source": [
    "speedup = 1e3 * float(str(stats_pd).split(' ')[0]) / float(str(stats_np).split(' ')[0])\n",
    "f'Speed-up Pandas VS Numpy x{round(speedup)}'"
   ]
  },
  {
   "cell_type": "markdown",
   "metadata": {},
   "source": [
    "### pipeline & model"
   ]
  },
  {
   "cell_type": "code",
   "execution_count": 22,
   "metadata": {},
   "outputs": [
    {
     "name": "stdout",
     "output_type": "stream",
     "text": [
      "155 ms ± 24 ms per loop (mean ± std. dev. of 7 runs, 10 loops each)\n",
      "269 µs ± 22.6 µs per loop (mean ± std. dev. of 7 runs, 1000 loops each)\n"
     ]
    }
   ],
   "source": [
    "stats_pd = %timeit -o model_pd.predict(prod_pipe.transform(x))[0]\n",
    "stats_tl = %timeit -o  model_prod.predict(treelite_runtime.DMatrix(prod_pipe.transform_numpy(x_np.copy())))"
   ]
  },
  {
   "cell_type": "code",
   "execution_count": 23,
   "metadata": {},
   "outputs": [
    {
     "data": {
      "text/plain": [
       "'Speed-up Pandas VS Numpy&Treelite x576'"
      ]
     },
     "execution_count": 23,
     "metadata": {},
     "output_type": "execute_result"
    }
   ],
   "source": [
    "speedup = 1e3 * float(str(stats_pd).split(' ')[0]) / float(str(stats_tl).split(' ')[0])\n",
    "f'Speed-up Pandas VS Numpy&Treelite x{round(speedup)}'"
   ]
  },
  {
   "cell_type": "code",
   "execution_count": null,
   "metadata": {},
   "outputs": [],
   "source": []
  }
 ],
 "metadata": {
  "kernelspec": {
   "display_name": "gators38",
   "language": "python",
   "name": "gators38"
  },
  "language_info": {
   "codemirror_mode": {
    "name": "ipython",
    "version": 3
   },
   "file_extension": ".py",
   "mimetype": "text/x-python",
   "name": "python",
   "nbconvert_exporter": "python",
   "pygments_lexer": "ipython3",
   "version": "3.8.10"
  }
 },
 "nbformat": 4,
 "nbformat_minor": 2
}
